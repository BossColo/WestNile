{
 "cells": [
  {
   "cell_type": "markdown",
   "metadata": {},
   "source": [
    "# Initialization"
   ]
  },
  {
   "cell_type": "code",
   "execution_count": 1,
   "metadata": {
    "ExecuteTime": {
     "end_time": "2017-09-05T02:13:06.638564Z",
     "start_time": "2017-09-05T02:13:05.665057Z"
    },
    "collapsed": true
   },
   "outputs": [],
   "source": [
    "import numpy as np\n",
    "import pandas as pd\n",
    "import matplotlib.pyplot as plt\n",
    "import seaborn as sns\n",
    "from os.path import join\n",
    "from sklearn.linear_model import RidgeClassifierCV, LogisticRegressionCV\n",
    "from sklearn.model_selection import train_test_split\n",
    "from sklearn.metrics import log_loss, classification_report, roc_curve, auc\n",
    "from imblearn.over_sampling import SMOTE"
   ]
  },
  {
   "cell_type": "code",
   "execution_count": 2,
   "metadata": {
    "ExecuteTime": {
     "end_time": "2017-09-05T02:13:07.307206Z",
     "start_time": "2017-09-05T02:13:07.303205Z"
    },
    "collapsed": true
   },
   "outputs": [],
   "source": [
    "sns.set_context('talk')"
   ]
  },
  {
   "cell_type": "markdown",
   "metadata": {},
   "source": [
    "# Load data"
   ]
  },
  {
   "cell_type": "code",
   "execution_count": 3,
   "metadata": {
    "ExecuteTime": {
     "end_time": "2017-09-05T02:13:08.953675Z",
     "start_time": "2017-09-05T02:13:08.944668Z"
    },
    "collapsed": true
   },
   "outputs": [],
   "source": [
    "train = pd.read_pickle('train')"
   ]
  },
  {
   "cell_type": "markdown",
   "metadata": {},
   "source": [
    "# Prepare data"
   ]
  },
  {
   "cell_type": "code",
   "execution_count": 4,
   "metadata": {
    "ExecuteTime": {
     "end_time": "2017-09-05T02:13:09.819664Z",
     "start_time": "2017-09-05T02:13:09.816643Z"
    },
    "collapsed": true
   },
   "outputs": [],
   "source": [
    "# Target is whether the virus is detected\n",
    "y = pd.to_numeric(train.WnvPresent.values)"
   ]
  },
  {
   "cell_type": "code",
   "execution_count": 20,
   "metadata": {
    "ExecuteTime": {
     "end_time": "2017-09-05T02:15:51.391754Z",
     "start_time": "2017-09-05T02:15:51.384233Z"
    },
    "collapsed": true
   },
   "outputs": [],
   "source": [
    "# These features were selected based on their relative importance\n",
    "# in other models trained on this dataset\n",
    "cols_to_use = [\n",
    "    'Latitude', 'Longitude', 'CULEX PIPIENS/RESTUANS', 'CULEX PIPIENS',\n",
    "    'CULEX RESTUANS', 'TrapCount', 'PrecipTotalMean', 'Sunrise', 'Sunset',\n",
    "    'TmaxMean', 'TminMean', 'WetBulbMean', 'Zone1', 'Zone2', 'Zone3', 'Zone4',\n",
    "    'Zone5', 'Zone6', 'Zone8', 'Zone12', '2009', '2011', '2013'\n",
    "]\n",
    "\n",
    "X = train[cols_to_use]"
   ]
  },
  {
   "cell_type": "code",
   "execution_count": 21,
   "metadata": {
    "ExecuteTime": {
     "end_time": "2017-09-05T02:15:51.650010Z",
     "start_time": "2017-09-05T02:15:51.640016Z"
    },
    "collapsed": true
   },
   "outputs": [],
   "source": [
    "# Split data preserving label ratio\n",
    "X_train, X_test, y_train, y_test = train_test_split(\n",
    "    X, y, random_state=42, stratify=y)"
   ]
  },
  {
   "cell_type": "code",
   "execution_count": 22,
   "metadata": {
    "ExecuteTime": {
     "end_time": "2017-09-05T02:15:51.929220Z",
     "start_time": "2017-09-05T02:15:51.840592Z"
    },
    "collapsed": true
   },
   "outputs": [],
   "source": [
    "# Use borderline SMOTE to fix class imbalance\n",
    "X_resampled, y_resampled = SMOTE(kind='borderline1').fit_sample(X_train,\n",
    "                                                                y_train)"
   ]
  },
  {
   "cell_type": "markdown",
   "metadata": {},
   "source": [
    "# Ridge Classifier"
   ]
  },
  {
   "cell_type": "code",
   "execution_count": 23,
   "metadata": {
    "ExecuteTime": {
     "end_time": "2017-09-05T02:15:52.245511Z",
     "start_time": "2017-09-05T02:15:52.182962Z"
    },
    "collapsed": true
   },
   "outputs": [],
   "source": [
    "# Train using CV version of Ridge Classifier to choose best alpha\n",
    "clf = RidgeClassifierCV()\n",
    "clf.fit(X_resampled, y_resampled)\n",
    "\n",
    "# The decision function returns log-liklihood, convert to probablity\n",
    "d = clf.decision_function(X_test)\n",
    "clf_probs = np.exp(d) / (1 + np.exp(d))\n",
    "\n",
    "sig_score = log_loss(y_test, clf_probs)\n",
    "\n",
    "y_pred = clf.predict(X_test)"
   ]
  },
  {
   "cell_type": "markdown",
   "metadata": {},
   "source": [
    "# Metrics"
   ]
  },
  {
   "cell_type": "code",
   "execution_count": 24,
   "metadata": {
    "ExecuteTime": {
     "end_time": "2017-09-05T02:15:52.564649Z",
     "start_time": "2017-09-05T02:15:52.559645Z"
    }
   },
   "outputs": [
    {
     "name": "stdout",
     "output_type": "stream",
     "text": [
      "0.557919033281\n"
     ]
    }
   ],
   "source": [
    "# Log loss\n",
    "print(sig_score)"
   ]
  },
  {
   "cell_type": "code",
   "execution_count": 25,
   "metadata": {
    "ExecuteTime": {
     "end_time": "2017-09-05T02:15:52.806599Z",
     "start_time": "2017-09-05T02:15:52.799034Z"
    }
   },
   "outputs": [
    {
     "name": "stdout",
     "output_type": "stream",
     "text": [
      "             precision    recall  f1-score   support\n",
      "\n",
      "          0       0.98      0.73      0.84      2489\n",
      "          1       0.14      0.80      0.24       138\n",
      "\n",
      "avg / total       0.94      0.74      0.81      2627\n",
      "\n"
     ]
    }
   ],
   "source": [
    "print(classification_report(y_test, y_pred))"
   ]
  },
  {
   "cell_type": "code",
   "execution_count": 26,
   "metadata": {
    "ExecuteTime": {
     "end_time": "2017-09-05T02:15:53.577132Z",
     "start_time": "2017-09-05T02:15:53.296279Z"
    }
   },
   "outputs": [
    {
     "data": {
      "image/png": "[encoded data removed]",
      "text/plain": [
       "<matplotlib.figure.Figure at 0x24fe5984ac8>"
      ]
     },
     "metadata": {},
     "output_type": "display_data"
    }
   ],
   "source": [
    "# ROC and AUC\n",
    "fpr, tpr, _ = roc_curve(y_test, clf_probs)\n",
    "roc_auc = auc(fpr, tpr)\n",
    "\n",
    "fig, ax = plt.subplots(figsize=(10, 10))\n",
    "lw = 2\n",
    "ax.plot(fpr, tpr,\n",
    "         lw=lw, label=f'ROC curve (area = {roc_auc:.5f})')\n",
    "ax.plot([0, 1], [0, 1], lw=lw, linestyle='--')\n",
    "ax.set_xlim([0.0, 1.0])\n",
    "ax.set_ylim([0.0, 1.05])\n",
    "ax.set_xlabel('False Positive Rate')\n",
    "ax.set_ylabel('True Positive Rate')\n",
    "ax.set_title('Receiver operating characteristic')\n",
    "ax.legend(loc=\"lower right\", fontsize=15)\n",
    "plt.show()\n",
    "fig.tight_layout()\n",
    "fig.savefig(join('plots', 'Ridge', 'ROC.png'))"
   ]
  },
  {
   "cell_type": "code",
   "execution_count": 27,
   "metadata": {
    "ExecuteTime": {
     "end_time": "2017-09-05T02:15:54.506340Z",
     "start_time": "2017-09-05T02:15:54.497816Z"
    }
   },
   "outputs": [
    {
     "data": {
      "text/html": [
       "<div>\n",
       "<style>\n",
       "    .dataframe thead tr:only-child th {\n",
       "        text-align: right;\n",
       "    }\n",
       "\n",
       "    .dataframe thead th {\n",
       "        text-align: left;\n",
       "    }\n",
       "\n",
       "    .dataframe tbody tr th {\n",
       "        vertical-align: top;\n",
       "    }\n",
       "</style>\n",
       "<table border=\"1\" class=\"dataframe\">\n",
       "  <thead>\n",
       "    <tr style=\"text-align: right;\">\n",
       "      <th></th>\n",
       "      <th>Coefficient</th>\n",
       "    </tr>\n",
       "  </thead>\n",
       "  <tbody>\n",
       "    <tr>\n",
       "      <th>Latitude</th>\n",
       "      <td>-0.020257</td>\n",
       "    </tr>\n",
       "    <tr>\n",
       "      <th>Longitude</th>\n",
       "      <td>-1.547292</td>\n",
       "    </tr>\n",
       "    <tr>\n",
       "      <th>CULEX PIPIENS/RESTUANS</th>\n",
       "      <td>0.555917</td>\n",
       "    </tr>\n",
       "    <tr>\n",
       "      <th>CULEX PIPIENS</th>\n",
       "      <td>0.676447</td>\n",
       "    </tr>\n",
       "    <tr>\n",
       "      <th>CULEX RESTUANS</th>\n",
       "      <td>0.276356</td>\n",
       "    </tr>\n",
       "    <tr>\n",
       "      <th>TrapCount</th>\n",
       "      <td>0.012282</td>\n",
       "    </tr>\n",
       "    <tr>\n",
       "      <th>PrecipTotalMean</th>\n",
       "      <td>1.534187</td>\n",
       "    </tr>\n",
       "    <tr>\n",
       "      <th>Sunrise</th>\n",
       "      <td>0.042279</td>\n",
       "    </tr>\n",
       "    <tr>\n",
       "      <th>Sunset</th>\n",
       "      <td>0.026459</td>\n",
       "    </tr>\n",
       "    <tr>\n",
       "      <th>TmaxMean</th>\n",
       "      <td>-0.042017</td>\n",
       "    </tr>\n",
       "    <tr>\n",
       "      <th>TminMean</th>\n",
       "      <td>0.046826</td>\n",
       "    </tr>\n",
       "    <tr>\n",
       "      <th>WetBulbMean</th>\n",
       "      <td>0.013074</td>\n",
       "    </tr>\n",
       "    <tr>\n",
       "      <th>Zone1</th>\n",
       "      <td>-0.038997</td>\n",
       "    </tr>\n",
       "    <tr>\n",
       "      <th>Zone2</th>\n",
       "      <td>0.023589</td>\n",
       "    </tr>\n",
       "    <tr>\n",
       "      <th>Zone3</th>\n",
       "      <td>0.016369</td>\n",
       "    </tr>\n",
       "    <tr>\n",
       "      <th>Zone4</th>\n",
       "      <td>0.246700</td>\n",
       "    </tr>\n",
       "    <tr>\n",
       "      <th>Zone5</th>\n",
       "      <td>0.132332</td>\n",
       "    </tr>\n",
       "    <tr>\n",
       "      <th>Zone6</th>\n",
       "      <td>-0.086319</td>\n",
       "    </tr>\n",
       "    <tr>\n",
       "      <th>Zone8</th>\n",
       "      <td>-0.211394</td>\n",
       "    </tr>\n",
       "    <tr>\n",
       "      <th>Zone12</th>\n",
       "      <td>0.238865</td>\n",
       "    </tr>\n",
       "    <tr>\n",
       "      <th>2009</th>\n",
       "      <td>-0.325684</td>\n",
       "    </tr>\n",
       "    <tr>\n",
       "      <th>2011</th>\n",
       "      <td>-0.118774</td>\n",
       "    </tr>\n",
       "    <tr>\n",
       "      <th>2013</th>\n",
       "      <td>0.613535</td>\n",
       "    </tr>\n",
       "  </tbody>\n",
       "</table>\n",
       "</div>"
      ],
      "text/plain": [
       "                        Coefficient\n",
       "Latitude                  -0.020257\n",
       "Longitude                 -1.547292\n",
       "CULEX PIPIENS/RESTUANS     0.555917\n",
       "CULEX PIPIENS              0.676447\n",
       "CULEX RESTUANS             0.276356\n",
       "TrapCount                  0.012282\n",
       "PrecipTotalMean            1.534187\n",
       "Sunrise                    0.042279\n",
       "Sunset                     0.026459\n",
       "TmaxMean                  -0.042017\n",
       "TminMean                   0.046826\n",
       "WetBulbMean                0.013074\n",
       "Zone1                     -0.038997\n",
       "Zone2                      0.023589\n",
       "Zone3                      0.016369\n",
       "Zone4                      0.246700\n",
       "Zone5                      0.132332\n",
       "Zone6                     -0.086319\n",
       "Zone8                     -0.211394\n",
       "Zone12                     0.238865\n",
       "2009                      -0.325684\n",
       "2011                      -0.118774\n",
       "2013                       0.613535"
      ]
     },
     "execution_count": 27,
     "metadata": {},
     "output_type": "execute_result"
    }
   ],
   "source": [
    "# Print coefficients from the model\n",
    "pd.DataFrame(clf.coef_.T, index=X.columns, columns=['Coefficient'])"
   ]
  },
  {
   "cell_type": "code",
   "execution_count": null,
   "metadata": {
    "collapsed": true
   },
   "outputs": [],
   "source": []
  }
 ],
 "metadata": {
  "kernelspec": {
   "display_name": "Python 3",
   "language": "python",
   "name": "python3"
  },
  "language_info": {
   "codemirror_mode": {
    "name": "ipython",
    "version": 3
   },
   "file_extension": ".py",
   "mimetype": "text/x-python",
   "name": "python",
   "nbconvert_exporter": "python",
   "pygments_lexer": "ipython3",
   "version": "3.6.2"
  }
 },
 "nbformat": 4,
 "nbformat_minor": 2
}
