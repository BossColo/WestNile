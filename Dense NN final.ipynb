{
 "cells": [
  {
   "cell_type": "markdown",
   "metadata": {},
   "source": [
    "# Initialization"
   ]
  },
  {
   "cell_type": "code",
   "execution_count": 110,
   "metadata": {
    "ExecuteTime": {
     "end_time": "2017-09-05T01:09:58.998428Z",
     "start_time": "2017-09-05T01:09:58.985419Z"
    }
   },
   "outputs": [],
   "source": [
    "import numpy as np\n",
    "import pandas as pd\n",
    "import matplotlib.pyplot as plt\n",
    "import seaborn as sns\n",
    "from os.path import join\n",
    "import keras.backend as K\n",
    "from keras.models import Sequential\n",
    "from keras.layers import Dense, Dropout\n",
    "from keras.callbacks import EarlyStopping, ModelCheckpoint\n",
    "from keras.optimizers import Adam\n",
    "from keras.wrappers.scikit_learn import KerasClassifier\n",
    "from keras.utils import plot_model\n",
    "from sklearn.model_selection import cross_val_score, train_test_split\n",
    "from sklearn.preprocessing import StandardScaler\n",
    "from sklearn.metrics import log_loss, classification_report, roc_curve, auc\n",
    "from imblearn.over_sampling import SMOTE"
   ]
  },
  {
   "cell_type": "code",
   "execution_count": 2,
   "metadata": {
    "ExecuteTime": {
     "end_time": "2017-09-04T23:56:32.914774Z",
     "start_time": "2017-09-04T23:56:32.910768Z"
    },
    "collapsed": true
   },
   "outputs": [],
   "source": [
    "seed = 42\n",
    "np.random.seed(seed)"
   ]
  },
  {
   "cell_type": "code",
   "execution_count": 3,
   "metadata": {
    "ExecuteTime": {
     "end_time": "2017-09-04T23:56:32.933784Z",
     "start_time": "2017-09-04T23:56:32.918773Z"
    },
    "collapsed": true
   },
   "outputs": [],
   "source": [
    "sns.set_context('talk')"
   ]
  },
  {
   "cell_type": "markdown",
   "metadata": {},
   "source": [
    "# Load data"
   ]
  },
  {
   "cell_type": "code",
   "execution_count": 4,
   "metadata": {
    "ExecuteTime": {
     "end_time": "2017-09-04T23:56:32.961307Z",
     "start_time": "2017-09-04T23:56:32.937786Z"
    },
    "collapsed": true
   },
   "outputs": [],
   "source": [
    "train = pd.read_pickle('train')"
   ]
  },
  {
   "cell_type": "markdown",
   "metadata": {},
   "source": [
    "# Prepare data"
   ]
  },
  {
   "cell_type": "code",
   "execution_count": 5,
   "metadata": {
    "ExecuteTime": {
     "end_time": "2017-09-04T23:56:32.971817Z",
     "start_time": "2017-09-04T23:56:32.966310Z"
    },
    "collapsed": true
   },
   "outputs": [],
   "source": [
    "# Target is whether the virus is detected\n",
    "y = pd.to_numeric(train.WnvPresent.values)"
   ]
  },
  {
   "cell_type": "code",
   "execution_count": 6,
   "metadata": {
    "ExecuteTime": {
     "end_time": "2017-09-04T23:56:32.992833Z",
     "start_time": "2017-09-04T23:56:32.974821Z"
    },
    "collapsed": true
   },
   "outputs": [],
   "source": [
    "# Remove unusable features from dataset\n",
    "X = train.drop(\n",
    "    ['Date', 'Trap', 'NumMosquitos', 'WnvPresent', 'Species', 'Zone'], axis=1)"
   ]
  },
  {
   "cell_type": "code",
   "execution_count": 7,
   "metadata": {
    "ExecuteTime": {
     "end_time": "2017-09-04T23:56:33.004841Z",
     "start_time": "2017-09-04T23:56:32.998839Z"
    },
    "collapsed": true
   },
   "outputs": [],
   "source": [
    "# list of one hot feature names, to exclude from standardizaion\n",
    "one_hots = [\n",
    "    'CULEX PIPIENS/RESTUANS', 'CULEX PIPIENS', 'CULEX RESTUANS', 'Zone1',\n",
    "    'Zone2', 'Zone3', 'Zone4', 'Zone5', 'Zone6', 'Zone8', 'Zone12', 'TS', 'FG',\n",
    "    'Jun', 'Jul', 'Aug', 'Sep', 'Oct', '2009', '2011', '2013'\n",
    "]"
   ]
  },
  {
   "cell_type": "code",
   "execution_count": 8,
   "metadata": {
    "ExecuteTime": {
     "end_time": "2017-09-04T23:56:33.058384Z",
     "start_time": "2017-09-04T23:56:33.008844Z"
    },
    "collapsed": true
   },
   "outputs": [],
   "source": [
    "# Remove one hot variables, then use a standard scaler on the\n",
    "# remaining features, and join them back together\n",
    "Xscaler = StandardScaler()\n",
    "\n",
    "X_sc = Xscaler.fit_transform(X.drop(one_hots, axis=1))\n",
    "X_sc = pd.DataFrame(X_sc, columns=[X.drop(one_hots, axis=1).columns])\n",
    "X_one_hots = X[one_hots]\n",
    "\n",
    "X_all = X_sc.join(X_one_hots)"
   ]
  },
  {
   "cell_type": "code",
   "execution_count": 9,
   "metadata": {
    "ExecuteTime": {
     "end_time": "2017-09-04T23:56:33.085907Z",
     "start_time": "2017-09-04T23:56:33.061385Z"
    },
    "collapsed": true
   },
   "outputs": [],
   "source": [
    "# Split data preserving label ratio\n",
    "X_train, X_test, y_train, y_test = train_test_split(\n",
    "    np.array(X_all), np.array(y), random_state=42, stratify=y)"
   ]
  },
  {
   "cell_type": "code",
   "execution_count": 10,
   "metadata": {
    "ExecuteTime": {
     "end_time": "2017-09-04T23:56:33.294611Z",
     "start_time": "2017-09-04T23:56:33.087908Z"
    },
    "collapsed": true
   },
   "outputs": [],
   "source": [
    "# Use borderline SMOTE to fix class imbalance\n",
    "X_resampled, y_resampled = SMOTE(kind='borderline1').fit_sample(X_train,\n",
    "                                                                y_train)"
   ]
  },
  {
   "cell_type": "markdown",
   "metadata": {},
   "source": [
    "# Neural Network"
   ]
  },
  {
   "cell_type": "code",
   "execution_count": 127,
   "metadata": {
    "ExecuteTime": {
     "end_time": "2017-09-05T01:53:09.000020Z",
     "start_time": "2017-09-05T01:50:31.212382Z"
    },
    "scrolled": true
   },
   "outputs": [
    {
     "name": "stdout",
     "output_type": "stream",
     "text": [
      "Train on 14932 samples, validate on 2627 samples\n",
      "Epoch 1/100\n",
      "Epoch 00000: val_loss improved from inf to 0.44073, saving model to weights.hdf5\n",
      "2s - loss: 0.4540 - acc: 0.7943 - val_loss: 0.4407 - val_acc: 0.7693\n",
      "Epoch 2/100\n",
      "Epoch 00001: val_loss improved from 0.44073 to 0.41326, saving model to weights.hdf5\n",
      "1s - loss: 0.3865 - acc: 0.8333 - val_loss: 0.4133 - val_acc: 0.7880\n",
      "Epoch 3/100\n",
      "Epoch 00002: val_loss did not improve\n",
      "1s - loss: 0.3614 - acc: 0.8450 - val_loss: 0.4185 - val_acc: 0.7807\n",
      "Epoch 4/100\n",
      "Epoch 00003: val_loss improved from 0.41326 to 0.34920, saving model to weights.hdf5\n",
      "1s - loss: 0.3441 - acc: 0.8526 - val_loss: 0.3492 - val_acc: 0.8196\n",
      "Epoch 5/100\n",
      "Epoch 00004: val_loss did not improve\n",
      "1s - loss: 0.3359 - acc: 0.8557 - val_loss: 0.4243 - val_acc: 0.7807\n",
      "Epoch 6/100\n",
      "Epoch 00005: val_loss improved from 0.34920 to 0.33170, saving model to weights.hdf5\n",
      "1s - loss: 0.3230 - acc: 0.8645 - val_loss: 0.3317 - val_acc: 0.8405\n",
      "Epoch 7/100\n",
      "Epoch 00006: val_loss did not improve\n",
      "1s - loss: 0.3150 - acc: 0.8701 - val_loss: 0.3465 - val_acc: 0.8321\n",
      "Epoch 8/100\n",
      "Epoch 00007: val_loss did not improve\n",
      "1s - loss: 0.3086 - acc: 0.8733 - val_loss: 0.3860 - val_acc: 0.8040\n",
      "Epoch 9/100\n",
      "Epoch 00008: val_loss did not improve\n",
      "1s - loss: 0.3069 - acc: 0.8719 - val_loss: 0.3411 - val_acc: 0.8276\n",
      "Epoch 10/100\n",
      "Epoch 00009: val_loss did not improve\n",
      "1s - loss: 0.3010 - acc: 0.8762 - val_loss: 0.3357 - val_acc: 0.8447\n",
      "Epoch 11/100\n",
      "Epoch 00010: val_loss did not improve\n",
      "1s - loss: 0.2960 - acc: 0.8795 - val_loss: 0.3739 - val_acc: 0.8085\n",
      "Epoch 12/100\n",
      "Epoch 00011: val_loss did not improve\n",
      "1s - loss: 0.2943 - acc: 0.8810 - val_loss: 0.3588 - val_acc: 0.8302\n",
      "Epoch 13/100\n",
      "Epoch 00012: val_loss did not improve\n",
      "1s - loss: 0.2925 - acc: 0.8830 - val_loss: 0.3466 - val_acc: 0.8264\n",
      "Epoch 14/100\n",
      "Epoch 00013: val_loss did not improve\n",
      "1s - loss: 0.2872 - acc: 0.8845 - val_loss: 0.3567 - val_acc: 0.8325\n",
      "Epoch 15/100\n",
      "Epoch 00014: val_loss did not improve\n",
      "1s - loss: 0.2817 - acc: 0.8859 - val_loss: 0.3423 - val_acc: 0.8344\n",
      "Epoch 16/100\n",
      "Epoch 00015: val_loss did not improve\n",
      "1s - loss: 0.2798 - acc: 0.8885 - val_loss: 0.3416 - val_acc: 0.8439\n",
      "Epoch 17/100\n",
      "Epoch 00016: val_loss did not improve\n",
      "1s - loss: 0.2767 - acc: 0.8904 - val_loss: 0.3509 - val_acc: 0.8428\n",
      "Epoch 18/100\n",
      "Epoch 00017: val_loss did not improve\n",
      "1s - loss: 0.2766 - acc: 0.8898 - val_loss: 0.3396 - val_acc: 0.8458\n",
      "Epoch 19/100\n",
      "Epoch 00018: val_loss did not improve\n",
      "1s - loss: 0.2688 - acc: 0.8931 - val_loss: 0.3320 - val_acc: 0.8489\n",
      "Epoch 20/100\n",
      "Epoch 00019: val_loss did not improve\n",
      "1s - loss: 0.2670 - acc: 0.8944 - val_loss: 0.3518 - val_acc: 0.8363\n",
      "Epoch 21/100\n",
      "Epoch 00020: val_loss improved from 0.33170 to 0.32135, saving model to weights.hdf5\n",
      "2s - loss: 0.2672 - acc: 0.8960 - val_loss: 0.3214 - val_acc: 0.8592\n",
      "Epoch 22/100\n",
      "Epoch 00021: val_loss did not improve\n",
      "1s - loss: 0.2672 - acc: 0.8941 - val_loss: 0.3471 - val_acc: 0.8470\n",
      "Epoch 23/100\n",
      "Epoch 00022: val_loss did not improve\n",
      "1s - loss: 0.2641 - acc: 0.8943 - val_loss: 0.3331 - val_acc: 0.8531\n",
      "Epoch 24/100\n",
      "Epoch 00023: val_loss did not improve\n",
      "1s - loss: 0.2603 - acc: 0.8976 - val_loss: 0.3631 - val_acc: 0.8390\n",
      "Epoch 25/100\n",
      "Epoch 00024: val_loss did not improve\n",
      "1s - loss: 0.2596 - acc: 0.8972 - val_loss: 0.3291 - val_acc: 0.8561\n",
      "Epoch 26/100\n",
      "Epoch 00025: val_loss did not improve\n",
      "1s - loss: 0.2596 - acc: 0.8984 - val_loss: 0.3344 - val_acc: 0.8569\n",
      "Epoch 27/100\n",
      "Epoch 00026: val_loss did not improve\n",
      "1s - loss: 0.2579 - acc: 0.8990 - val_loss: 0.3573 - val_acc: 0.8405\n",
      "Epoch 28/100\n",
      "Epoch 00027: val_loss did not improve\n",
      "1s - loss: 0.2559 - acc: 0.8983 - val_loss: 0.3442 - val_acc: 0.8557\n",
      "Epoch 29/100\n",
      "Epoch 00028: val_loss did not improve\n",
      "1s - loss: 0.2546 - acc: 0.9005 - val_loss: 0.3407 - val_acc: 0.8512\n",
      "Epoch 30/100\n",
      "Epoch 00029: val_loss did not improve\n",
      "1s - loss: 0.2531 - acc: 0.9009 - val_loss: 0.3506 - val_acc: 0.8557\n",
      "Epoch 31/100\n",
      "Epoch 00030: val_loss did not improve\n",
      "1s - loss: 0.2548 - acc: 0.8995 - val_loss: 0.3534 - val_acc: 0.8580\n",
      "Epoch 32/100\n",
      "Epoch 00031: val_loss did not improve\n",
      "1s - loss: 0.2502 - acc: 0.9022 - val_loss: 0.3411 - val_acc: 0.8603\n",
      "Epoch 33/100\n",
      "Epoch 00032: val_loss did not improve\n",
      "1s - loss: 0.2540 - acc: 0.9000 - val_loss: 0.3370 - val_acc: 0.8626\n",
      "Epoch 34/100\n",
      "Epoch 00033: val_loss did not improve\n",
      "1s - loss: 0.2508 - acc: 0.9038 - val_loss: 0.3636 - val_acc: 0.8481\n",
      "Epoch 35/100\n",
      "Epoch 00034: val_loss did not improve\n",
      "1s - loss: 0.2486 - acc: 0.9029 - val_loss: 0.3449 - val_acc: 0.8531\n",
      "Epoch 36/100\n",
      "Epoch 00035: val_loss did not improve\n",
      "1s - loss: 0.2479 - acc: 0.9058 - val_loss: 0.3561 - val_acc: 0.8519\n",
      "Epoch 37/100\n",
      "Epoch 00036: val_loss did not improve\n",
      "1s - loss: 0.2459 - acc: 0.9036 - val_loss: 0.3532 - val_acc: 0.8573\n",
      "Epoch 38/100\n",
      "Epoch 00037: val_loss did not improve\n",
      "1s - loss: 0.2459 - acc: 0.9033 - val_loss: 0.3760 - val_acc: 0.8485\n",
      "Epoch 39/100\n",
      "Epoch 00038: val_loss did not improve\n",
      "1s - loss: 0.2454 - acc: 0.9039 - val_loss: 0.3419 - val_acc: 0.8618\n",
      "Epoch 40/100\n",
      "Epoch 00039: val_loss did not improve\n",
      "1s - loss: 0.2461 - acc: 0.9036 - val_loss: 0.3412 - val_acc: 0.8652\n",
      "Epoch 41/100\n",
      "Epoch 00040: val_loss did not improve\n",
      "1s - loss: 0.2434 - acc: 0.9060 - val_loss: 0.3517 - val_acc: 0.8580\n",
      "Epoch 42/100\n",
      "Epoch 00041: val_loss did not improve\n",
      "1s - loss: 0.2425 - acc: 0.9054 - val_loss: 0.3514 - val_acc: 0.8611\n",
      "Epoch 43/100\n",
      "Epoch 00042: val_loss did not improve\n",
      "1s - loss: 0.2406 - acc: 0.9062 - val_loss: 0.3442 - val_acc: 0.8671\n",
      "Epoch 44/100\n",
      "Epoch 00043: val_loss did not improve\n",
      "1s - loss: 0.2396 - acc: 0.9082 - val_loss: 0.3788 - val_acc: 0.8493\n",
      "Epoch 45/100\n",
      "Epoch 00044: val_loss did not improve\n",
      "1s - loss: 0.2405 - acc: 0.9076 - val_loss: 0.3558 - val_acc: 0.8660\n",
      "Epoch 46/100\n",
      "Epoch 00045: val_loss did not improve\n",
      "1s - loss: 0.2381 - acc: 0.9073 - val_loss: 0.3586 - val_acc: 0.8603\n",
      "Epoch 47/100\n",
      "Epoch 00046: val_loss did not improve\n",
      "1s - loss: 0.2399 - acc: 0.9062 - val_loss: 0.3643 - val_acc: 0.8603\n",
      "Epoch 48/100\n",
      "Epoch 00047: val_loss did not improve\n",
      "1s - loss: 0.2360 - acc: 0.9096 - val_loss: 0.3483 - val_acc: 0.8759\n",
      "Epoch 49/100\n",
      "Epoch 00048: val_loss did not improve\n",
      "1s - loss: 0.2384 - acc: 0.9091 - val_loss: 0.3591 - val_acc: 0.8599\n",
      "Epoch 50/100\n",
      "Epoch 00049: val_loss did not improve\n",
      "1s - loss: 0.2409 - acc: 0.9061 - val_loss: 0.3758 - val_acc: 0.8569\n",
      "Epoch 51/100\n",
      "Epoch 00050: val_loss did not improve\n",
      "1s - loss: 0.2369 - acc: 0.9091 - val_loss: 0.3400 - val_acc: 0.8729\n",
      "Epoch 52/100\n",
      "Epoch 00051: val_loss did not improve\n",
      "1s - loss: 0.2362 - acc: 0.9107 - val_loss: 0.3625 - val_acc: 0.8660\n",
      "Epoch 53/100\n",
      "Epoch 00052: val_loss did not improve\n",
      "1s - loss: 0.2328 - acc: 0.9108 - val_loss: 0.3654 - val_acc: 0.8641\n",
      "Epoch 54/100\n",
      "Epoch 00053: val_loss did not improve\n",
      "1s - loss: 0.2336 - acc: 0.9115 - val_loss: 0.3668 - val_acc: 0.8588\n",
      "Epoch 55/100\n",
      "Epoch 00054: val_loss did not improve\n",
      "1s - loss: 0.2359 - acc: 0.9115 - val_loss: 0.3631 - val_acc: 0.8614\n",
      "Epoch 56/100\n",
      "Epoch 00055: val_loss did not improve\n",
      "1s - loss: 0.2336 - acc: 0.9121 - val_loss: 0.3723 - val_acc: 0.8626\n",
      "Epoch 57/100\n",
      "Epoch 00056: val_loss did not improve\n",
      "1s - loss: 0.2369 - acc: 0.9092 - val_loss: 0.3715 - val_acc: 0.8618\n",
      "Epoch 58/100\n",
      "Epoch 00057: val_loss did not improve\n",
      "1s - loss: 0.2336 - acc: 0.9109 - val_loss: 0.3568 - val_acc: 0.8736\n",
      "Epoch 59/100\n",
      "Epoch 00058: val_loss did not improve\n",
      "1s - loss: 0.2316 - acc: 0.9126 - val_loss: 0.3590 - val_acc: 0.8729\n",
      "Epoch 60/100\n",
      "Epoch 00059: val_loss did not improve\n",
      "1s - loss: 0.2308 - acc: 0.9126 - val_loss: 0.3500 - val_acc: 0.8767\n",
      "Epoch 61/100\n",
      "Epoch 00060: val_loss did not improve\n",
      "1s - loss: 0.2359 - acc: 0.9098 - val_loss: 0.3945 - val_acc: 0.8504\n",
      "Epoch 62/100\n",
      "Epoch 00061: val_loss did not improve\n",
      "1s - loss: 0.2263 - acc: 0.9154 - val_loss: 0.3705 - val_acc: 0.8630\n",
      "Epoch 63/100\n",
      "Epoch 00062: val_loss did not improve\n",
      "1s - loss: 0.2315 - acc: 0.9115 - val_loss: 0.3722 - val_acc: 0.8573\n",
      "Epoch 64/100\n",
      "Epoch 00063: val_loss did not improve\n",
      "1s - loss: 0.2289 - acc: 0.9134 - val_loss: 0.3835 - val_acc: 0.8546\n",
      "Epoch 65/100\n",
      "Epoch 00064: val_loss did not improve\n",
      "1s - loss: 0.2268 - acc: 0.9139 - val_loss: 0.3822 - val_acc: 0.8637\n",
      "Epoch 66/100\n",
      "Epoch 00065: val_loss did not improve\n",
      "1s - loss: 0.2276 - acc: 0.9144 - val_loss: 0.3802 - val_acc: 0.8603\n",
      "Epoch 67/100\n"
     ]
    },
    {
     "name": "stdout",
     "output_type": "stream",
     "text": [
      "Epoch 00066: val_loss did not improve\n",
      "1s - loss: 0.2282 - acc: 0.9131 - val_loss: 0.3660 - val_acc: 0.8641\n",
      "Epoch 68/100\n",
      "Epoch 00067: val_loss did not improve\n",
      "1s - loss: 0.2263 - acc: 0.9153 - val_loss: 0.3618 - val_acc: 0.8656\n",
      "Epoch 69/100\n",
      "Epoch 00068: val_loss did not improve\n",
      "1s - loss: 0.2301 - acc: 0.9123 - val_loss: 0.3659 - val_acc: 0.8576\n",
      "Epoch 70/100\n",
      "Epoch 00069: val_loss did not improve\n",
      "1s - loss: 0.2290 - acc: 0.9129 - val_loss: 0.3707 - val_acc: 0.8618\n",
      "Epoch 71/100\n",
      "Epoch 00070: val_loss did not improve\n",
      "1s - loss: 0.2317 - acc: 0.9117 - val_loss: 0.3898 - val_acc: 0.8588\n",
      "Epoch 72/100\n",
      "Epoch 00071: val_loss did not improve\n",
      "1s - loss: 0.2304 - acc: 0.9115 - val_loss: 0.3681 - val_acc: 0.8710\n",
      "Epoch 73/100\n",
      "Epoch 00072: val_loss did not improve\n",
      "1s - loss: 0.2269 - acc: 0.9141 - val_loss: 0.3769 - val_acc: 0.8595\n",
      "Epoch 74/100\n",
      "Epoch 00073: val_loss did not improve\n",
      "1s - loss: 0.2278 - acc: 0.9154 - val_loss: 0.3745 - val_acc: 0.8671\n",
      "Epoch 75/100\n",
      "Epoch 00074: val_loss did not improve\n",
      "1s - loss: 0.2295 - acc: 0.9135 - val_loss: 0.3792 - val_acc: 0.8675\n",
      "Epoch 76/100\n",
      "Epoch 00075: val_loss did not improve\n",
      "1s - loss: 0.2267 - acc: 0.9138 - val_loss: 0.3752 - val_acc: 0.8721\n",
      "Epoch 77/100\n",
      "Epoch 00076: val_loss did not improve\n",
      "1s - loss: 0.2266 - acc: 0.9143 - val_loss: 0.3740 - val_acc: 0.8611\n",
      "Epoch 78/100\n",
      "Epoch 00077: val_loss did not improve\n",
      "1s - loss: 0.2214 - acc: 0.9155 - val_loss: 0.3855 - val_acc: 0.8633\n",
      "Epoch 79/100\n",
      "Epoch 00078: val_loss did not improve\n",
      "1s - loss: 0.2248 - acc: 0.9143 - val_loss: 0.3802 - val_acc: 0.8611\n",
      "Epoch 80/100\n",
      "Epoch 00079: val_loss did not improve\n",
      "1s - loss: 0.2186 - acc: 0.9186 - val_loss: 0.3948 - val_acc: 0.8645\n",
      "Epoch 81/100\n",
      "Epoch 00080: val_loss did not improve\n",
      "1s - loss: 0.2238 - acc: 0.9155 - val_loss: 0.3723 - val_acc: 0.8649\n",
      "Epoch 82/100\n",
      "Epoch 00081: val_loss did not improve\n",
      "1s - loss: 0.2218 - acc: 0.9167 - val_loss: 0.3831 - val_acc: 0.8691\n",
      "Epoch 83/100\n",
      "Epoch 00082: val_loss did not improve\n",
      "1s - loss: 0.2260 - acc: 0.9153 - val_loss: 0.3759 - val_acc: 0.8713\n",
      "Epoch 84/100\n",
      "Epoch 00083: val_loss did not improve\n",
      "1s - loss: 0.2228 - acc: 0.9174 - val_loss: 0.3811 - val_acc: 0.8660\n",
      "Epoch 85/100\n",
      "Epoch 00084: val_loss did not improve\n",
      "1s - loss: 0.2220 - acc: 0.9150 - val_loss: 0.3781 - val_acc: 0.8687\n",
      "Epoch 86/100\n",
      "Epoch 00085: val_loss did not improve\n",
      "1s - loss: 0.2210 - acc: 0.9162 - val_loss: 0.3659 - val_acc: 0.8694\n",
      "Epoch 87/100\n",
      "Epoch 00086: val_loss did not improve\n",
      "1s - loss: 0.2238 - acc: 0.9159 - val_loss: 0.3785 - val_acc: 0.8573\n",
      "Epoch 88/100\n",
      "Epoch 00087: val_loss did not improve\n",
      "1s - loss: 0.2228 - acc: 0.9170 - val_loss: 0.3795 - val_acc: 0.8656\n",
      "Epoch 89/100\n",
      "Epoch 00088: val_loss did not improve\n",
      "1s - loss: 0.2234 - acc: 0.9172 - val_loss: 0.3948 - val_acc: 0.8584\n",
      "Epoch 90/100\n",
      "Epoch 00089: val_loss did not improve\n",
      "1s - loss: 0.2189 - acc: 0.9174 - val_loss: 0.3727 - val_acc: 0.8687\n",
      "Epoch 91/100\n",
      "Epoch 00090: val_loss did not improve\n",
      "1s - loss: 0.2213 - acc: 0.9174 - val_loss: 0.3838 - val_acc: 0.8706\n",
      "Epoch 92/100\n",
      "Epoch 00091: val_loss did not improve\n",
      "1s - loss: 0.2175 - acc: 0.9172 - val_loss: 0.3729 - val_acc: 0.8774\n",
      "Epoch 93/100\n",
      "Epoch 00092: val_loss did not improve\n",
      "1s - loss: 0.2195 - acc: 0.9173 - val_loss: 0.3631 - val_acc: 0.8774\n",
      "Epoch 94/100\n",
      "Epoch 00093: val_loss did not improve\n",
      "1s - loss: 0.2204 - acc: 0.9158 - val_loss: 0.4027 - val_acc: 0.8595\n",
      "Epoch 95/100\n",
      "Epoch 00094: val_loss did not improve\n",
      "1s - loss: 0.2199 - acc: 0.9170 - val_loss: 0.3907 - val_acc: 0.8668\n",
      "Epoch 96/100\n",
      "Epoch 00095: val_loss did not improve\n",
      "1s - loss: 0.2218 - acc: 0.9176 - val_loss: 0.3832 - val_acc: 0.8732\n",
      "Epoch 97/100\n",
      "Epoch 00096: val_loss did not improve\n",
      "1s - loss: 0.2223 - acc: 0.9158 - val_loss: 0.3860 - val_acc: 0.8660\n",
      "Epoch 98/100\n",
      "Epoch 00097: val_loss did not improve\n",
      "1s - loss: 0.2185 - acc: 0.9178 - val_loss: 0.3627 - val_acc: 0.8805\n",
      "Epoch 99/100\n",
      "Epoch 00098: val_loss did not improve\n",
      "1s - loss: 0.2170 - acc: 0.9206 - val_loss: 0.3840 - val_acc: 0.8626\n",
      "Epoch 100/100\n",
      "Epoch 00099: val_loss did not improve\n",
      "1s - loss: 0.2205 - acc: 0.9187 - val_loss: 0.3827 - val_acc: 0.8805\n"
     ]
    },
    {
     "data": {
      "text/plain": [
       "<keras.callbacks.History at 0x2157830b7b8>"
      ]
     },
     "execution_count": 127,
     "metadata": {},
     "output_type": "execute_result"
    }
   ],
   "source": [
    "# Define nework in function for use in the skikit wrapper\n",
    "def create_baseline():\n",
    "    model = Sequential()\n",
    "    model.add(Dense(30, input_dim=59, activation='relu'))\n",
    "    model.add(Dropout(0.2))\n",
    "    model.add(Dense(1, activation='sigmoid'))\n",
    "\n",
    "    adam_op = Adam(lr=0.001)\n",
    "\n",
    "    model.compile(\n",
    "        loss='binary_crossentropy', optimizer=adam_op, metrics=['accuracy'])\n",
    "    return model\n",
    "\n",
    "\n",
    "# Buld model within scikit wrapper\n",
    "estimator = KerasClassifier(\n",
    "    build_fn=create_baseline, nb_epoch=200, batch_size=10, verbose=0)\n",
    "\n",
    "# Callback to save the model with the least loss on the validation data\n",
    "checkpointer = ModelCheckpoint(\n",
    "    filepath=\"weights.hdf5\", verbose=1, save_best_only=True)\n",
    "\n",
    "# Fit the data\n",
    "estimator.fit(\n",
    "    X_resampled,\n",
    "    y_resampled,\n",
    "    validation_data=(X_test, y_test),\n",
    "    callbacks=[checkpointer],\n",
    "    epochs=100,\n",
    "    verbose=2)"
   ]
  },
  {
   "cell_type": "code",
   "execution_count": 128,
   "metadata": {
    "ExecuteTime": {
     "end_time": "2017-09-05T01:56:03.973249Z",
     "start_time": "2017-09-05T01:56:03.762567Z"
    },
    "collapsed": true
   },
   "outputs": [],
   "source": [
    "estimator.model.load_weights('weights.hdf5')"
   ]
  },
  {
   "cell_type": "code",
   "execution_count": 129,
   "metadata": {
    "ExecuteTime": {
     "end_time": "2017-09-05T01:56:04.645155Z",
     "start_time": "2017-09-05T01:56:04.338578Z"
    },
    "collapsed": true
   },
   "outputs": [],
   "source": [
    "clf_probs = estimator.predict_proba(X_test)"
   ]
  },
  {
   "cell_type": "code",
   "execution_count": 130,
   "metadata": {
    "ExecuteTime": {
     "end_time": "2017-09-05T01:56:04.687586Z",
     "start_time": "2017-09-05T01:56:04.681581Z"
    },
    "collapsed": true
   },
   "outputs": [],
   "source": [
    "sig_score = log_loss(y_test, clf_probs)"
   ]
  },
  {
   "cell_type": "code",
   "execution_count": 131,
   "metadata": {
    "ExecuteTime": {
     "end_time": "2017-09-05T01:56:05.178585Z",
     "start_time": "2017-09-05T01:56:05.058238Z"
    },
    "collapsed": true
   },
   "outputs": [],
   "source": [
    "y_pred = estimator.predict(X_test)"
   ]
  },
  {
   "cell_type": "markdown",
   "metadata": {},
   "source": [
    "# Metrics"
   ]
  },
  {
   "cell_type": "code",
   "execution_count": 132,
   "metadata": {
    "ExecuteTime": {
     "end_time": "2017-09-05T01:56:05.862694Z",
     "start_time": "2017-09-05T01:56:05.858692Z"
    }
   },
   "outputs": [
    {
     "name": "stdout",
     "output_type": "stream",
     "text": [
      "0.321351492383\n"
     ]
    }
   ],
   "source": [
    "# Log loss\n",
    "print(sig_score)"
   ]
  },
  {
   "cell_type": "code",
   "execution_count": 133,
   "metadata": {
    "ExecuteTime": {
     "end_time": "2017-09-05T01:56:06.583931Z",
     "start_time": "2017-09-05T01:56:06.578929Z"
    }
   },
   "outputs": [
    {
     "name": "stdout",
     "output_type": "stream",
     "text": [
      "             precision    recall  f1-score   support\n",
      "\n",
      "          0       0.97      0.88      0.92      2489\n",
      "          1       0.18      0.46      0.26       138\n",
      "\n",
      "avg / total       0.93      0.86      0.89      2627\n",
      "\n"
     ]
    }
   ],
   "source": [
    "print(classification_report(y_test, y_pred))"
   ]
  },
  {
   "cell_type": "code",
   "execution_count": 134,
   "metadata": {
    "ExecuteTime": {
     "end_time": "2017-09-05T01:56:07.429074Z",
     "start_time": "2017-09-05T01:56:07.155119Z"
    }
   },
   "outputs": [
    {
     "data": {
      "image/png": "[encoded data removed]",
      "text/plain": [
       "<matplotlib.figure.Figure at 0x215781051d0>"
      ]
     },
     "metadata": {},
     "output_type": "display_data"
    }
   ],
   "source": [
    "# ROC and AUC\n",
    "fpr, tpr, _ = roc_curve(y_test, clf_probs[:,1])\n",
    "roc_auc = auc(fpr, tpr)\n",
    "\n",
    "fig, ax = plt.subplots(figsize=(10, 10))\n",
    "lw = 2\n",
    "ax.plot(fpr, tpr,\n",
    "         lw=lw, label='ROC curve (area = %0.5f)' % roc_auc)\n",
    "ax.plot([0, 1], [0, 1], lw=lw, linestyle='--')\n",
    "ax.set_xlim([0.0, 1.0])\n",
    "ax.set_ylim([0.0, 1.05])\n",
    "ax.set_xlabel('False Positive Rate')\n",
    "ax.set_ylabel('True Positive Rate')\n",
    "ax.set_title('Receiver operating characteristic')\n",
    "ax.legend(loc=\"lower right\", fontsize=15)\n",
    "plt.show()\n",
    "fig.tight_layout()\n",
    "fig.savefig(join('plots', 'NN', 'ROC.png'))"
   ]
  },
  {
   "cell_type": "code",
   "execution_count": null,
   "metadata": {
    "collapsed": true
   },
   "outputs": [],
   "source": []
  }
 ],
 "metadata": {
  "kernelspec": {
   "display_name": "Python 3",
   "language": "python",
   "name": "python3"
  },
  "language_info": {
   "codemirror_mode": {
    "name": "ipython",
    "version": 3
   },
   "file_extension": ".py",
   "mimetype": "text/x-python",
   "name": "python",
   "nbconvert_exporter": "python",
   "pygments_lexer": "ipython3",
   "version": "3.6.2"
  }
 },
 "nbformat": 4,
 "nbformat_minor": 2
}
