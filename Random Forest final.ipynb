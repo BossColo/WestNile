{
 "cells": [
  {
   "cell_type": "markdown",
   "metadata": {},
   "source": [
    "# Initialization"
   ]
  },
  {
   "cell_type": "code",
   "execution_count": 1,
   "metadata": {
    "ExecuteTime": {
     "end_time": "2017-09-06T14:13:10.695435Z",
     "start_time": "2017-09-06T14:13:04.728066Z"
    },
    "collapsed": true,
    "init_cell": true
   },
   "outputs": [],
   "source": [
    "import numpy as np\n",
    "import pandas as pd\n",
    "import matplotlib.pyplot as plt\n",
    "import seaborn as sns\n",
    "from os.path import join\n",
    "from sklearn.ensemble import RandomForestClassifier\n",
    "from sklearn.preprocessing import MinMaxScaler\n",
    "from sklearn.model_selection import train_test_split, GridSearchCV\n",
    "from sklearn.metrics import log_loss, classification_report, roc_curve, auc\n",
    "from imblearn.over_sampling import SMOTE"
   ]
  },
  {
   "cell_type": "code",
   "execution_count": 2,
   "metadata": {
    "ExecuteTime": {
     "end_time": "2017-09-06T14:13:10.701439Z",
     "start_time": "2017-09-06T14:13:10.697415Z"
    },
    "collapsed": true,
    "init_cell": true
   },
   "outputs": [],
   "source": [
    "sns.set_context('talk')"
   ]
  },
  {
   "cell_type": "markdown",
   "metadata": {},
   "source": [
    "# Load data"
   ]
  },
  {
   "cell_type": "code",
   "execution_count": 3,
   "metadata": {
    "ExecuteTime": {
     "end_time": "2017-09-05T14:10:35.372209Z",
     "start_time": "2017-09-05T14:10:35.347686Z"
    },
    "collapsed": true
   },
   "outputs": [],
   "source": [
    "train = pd.read_pickle('train')"
   ]
  },
  {
   "cell_type": "markdown",
   "metadata": {},
   "source": [
    "# Prepare data"
   ]
  },
  {
   "cell_type": "code",
   "execution_count": 6,
   "metadata": {
    "ExecuteTime": {
     "end_time": "2017-09-04T23:16:08.349825Z",
     "start_time": "2017-09-04T23:16:08.346804Z"
    },
    "collapsed": true
   },
   "outputs": [],
   "source": [
    "# Target is whether the virus is detected\n",
    "y = pd.to_numeric(train.WnvPresent.values)"
   ]
  },
  {
   "cell_type": "code",
   "execution_count": 7,
   "metadata": {
    "ExecuteTime": {
     "end_time": "2017-09-04T23:16:08.718753Z",
     "start_time": "2017-09-04T23:16:08.705743Z"
    },
    "collapsed": true
   },
   "outputs": [],
   "source": [
    "# Remove unusable features from dataset\n",
    "X = train.drop(\n",
    "    ['Date', 'Trap', 'NumMosquitos', 'WnvPresent', 'Species', 'Zone'], axis=1)"
   ]
  },
  {
   "cell_type": "code",
   "execution_count": 8,
   "metadata": {
    "ExecuteTime": {
     "end_time": "2017-09-04T23:16:09.196170Z",
     "start_time": "2017-09-04T23:16:09.186163Z"
    },
    "collapsed": true
   },
   "outputs": [],
   "source": [
    "# Split data preserving label ratio\n",
    "X_train, X_test, y_train, y_test = train_test_split(\n",
    "    X, y, random_state=42, stratify=y)"
   ]
  },
  {
   "cell_type": "code",
   "execution_count": 9,
   "metadata": {
    "ExecuteTime": {
     "end_time": "2017-09-04T23:16:09.783814Z",
     "start_time": "2017-09-04T23:16:09.658171Z"
    },
    "collapsed": true
   },
   "outputs": [],
   "source": [
    "# Use borderline SMOTE to fix class imbalance\n",
    "X_resampled, y_resampled = SMOTE(kind='borderline1').fit_sample(X_train,\n",
    "                                                                y_train)"
   ]
  },
  {
   "cell_type": "markdown",
   "metadata": {},
   "source": [
    "# Random forest grid search"
   ]
  },
  {
   "cell_type": "code",
   "execution_count": 10,
   "metadata": {
    "ExecuteTime": {
     "end_time": "2017-09-04T23:38:41.531489Z",
     "start_time": "2017-09-04T23:16:13.996104Z"
    },
    "scrolled": true
   },
   "outputs": [
    {
     "name": "stdout",
     "output_type": "stream",
     "text": [
      "Fitting 3 folds for each of 108 candidates, totalling 324 fits\n",
      "[CV] max_depth=None, max_features=None, min_samples_leaf=1, min_samples_split=2 \n",
      "[CV]  max_depth=None, max_features=None, min_samples_leaf=1, min_samples_split=2, total=  14.2s\n",
      "[CV] max_depth=None, max_features=None, min_samples_leaf=1, min_samples_split=2 \n"
     ]
    },
    {
     "name": "stderr",
     "output_type": "stream",
     "text": [
      "[Parallel(n_jobs=1)]: Done   1 out of   1 | elapsed:   14.3s remaining:    0.0s\n"
     ]
    },
    {
     "name": "stdout",
     "output_type": "stream",
     "text": [
      "[CV]  max_depth=None, max_features=None, min_samples_leaf=1, min_samples_split=2, total=  15.0s\n",
      "[CV] max_depth=None, max_features=None, min_samples_leaf=1, min_samples_split=2 \n",
      "[CV]  max_depth=None, max_features=None, min_samples_leaf=1, min_samples_split=2, total=  14.8s\n",
      "[CV] max_depth=None, max_features=None, min_samples_leaf=1, min_samples_split=20 \n",
      "[CV]  max_depth=None, max_features=None, min_samples_leaf=1, min_samples_split=20, total=  13.8s\n",
      "[CV] max_depth=None, max_features=None, min_samples_leaf=1, min_samples_split=20 \n",
      "[CV]  max_depth=None, max_features=None, min_samples_leaf=1, min_samples_split=20, total=  14.6s\n",
      "[CV] max_depth=None, max_features=None, min_samples_leaf=1, min_samples_split=20 \n",
      "[CV]  max_depth=None, max_features=None, min_samples_leaf=1, min_samples_split=20, total=  14.5s\n",
      "[CV] max_depth=None, max_features=None, min_samples_leaf=1, min_samples_split=50 \n",
      "[CV]  max_depth=None, max_features=None, min_samples_leaf=1, min_samples_split=50, total=  13.7s\n",
      "[CV] max_depth=None, max_features=None, min_samples_leaf=1, min_samples_split=50 \n",
      "[CV]  max_depth=None, max_features=None, min_samples_leaf=1, min_samples_split=50, total=  14.9s\n",
      "[CV] max_depth=None, max_features=None, min_samples_leaf=1, min_samples_split=50 \n",
      "[CV]  max_depth=None, max_features=None, min_samples_leaf=1, min_samples_split=50, total=  15.1s\n",
      "[CV] max_depth=None, max_features=None, min_samples_leaf=20, min_samples_split=2 \n",
      "[CV]  max_depth=None, max_features=None, min_samples_leaf=20, min_samples_split=2, total=  11.8s\n",
      "[CV] max_depth=None, max_features=None, min_samples_leaf=20, min_samples_split=2 \n",
      "[CV]  max_depth=None, max_features=None, min_samples_leaf=20, min_samples_split=2, total=  12.1s\n",
      "[CV] max_depth=None, max_features=None, min_samples_leaf=20, min_samples_split=2 \n",
      "[CV]  max_depth=None, max_features=None, min_samples_leaf=20, min_samples_split=2, total=  11.8s\n",
      "[CV] max_depth=None, max_features=None, min_samples_leaf=20, min_samples_split=20 \n",
      "[CV]  max_depth=None, max_features=None, min_samples_leaf=20, min_samples_split=20, total=  11.7s\n",
      "[CV] max_depth=None, max_features=None, min_samples_leaf=20, min_samples_split=20 \n",
      "[CV]  max_depth=None, max_features=None, min_samples_leaf=20, min_samples_split=20, total=  12.0s\n",
      "[CV] max_depth=None, max_features=None, min_samples_leaf=20, min_samples_split=20 \n",
      "[CV]  max_depth=None, max_features=None, min_samples_leaf=20, min_samples_split=20, total=  11.7s\n",
      "[CV] max_depth=None, max_features=None, min_samples_leaf=20, min_samples_split=50 \n",
      "[CV]  max_depth=None, max_features=None, min_samples_leaf=20, min_samples_split=50, total=  11.5s\n",
      "[CV] max_depth=None, max_features=None, min_samples_leaf=20, min_samples_split=50 \n",
      "[CV]  max_depth=None, max_features=None, min_samples_leaf=20, min_samples_split=50, total=  12.1s\n",
      "[CV] max_depth=None, max_features=None, min_samples_leaf=20, min_samples_split=50 \n",
      "[CV]  max_depth=None, max_features=None, min_samples_leaf=20, min_samples_split=50, total=  11.6s\n",
      "[CV] max_depth=None, max_features=None, min_samples_leaf=50, min_samples_split=2 \n",
      "[CV]  max_depth=None, max_features=None, min_samples_leaf=50, min_samples_split=2, total=  10.3s\n",
      "[CV] max_depth=None, max_features=None, min_samples_leaf=50, min_samples_split=2 \n",
      "[CV]  max_depth=None, max_features=None, min_samples_leaf=50, min_samples_split=2, total=  10.4s\n",
      "[CV] max_depth=None, max_features=None, min_samples_leaf=50, min_samples_split=2 \n",
      "[CV]  max_depth=None, max_features=None, min_samples_leaf=50, min_samples_split=2, total=  10.0s\n",
      "[CV] max_depth=None, max_features=None, min_samples_leaf=50, min_samples_split=20 \n",
      "[CV]  max_depth=None, max_features=None, min_samples_leaf=50, min_samples_split=20, total=  10.5s\n",
      "[CV] max_depth=None, max_features=None, min_samples_leaf=50, min_samples_split=20 \n",
      "[CV]  max_depth=None, max_features=None, min_samples_leaf=50, min_samples_split=20, total=  10.4s\n",
      "[CV] max_depth=None, max_features=None, min_samples_leaf=50, min_samples_split=20 \n",
      "[CV]  max_depth=None, max_features=None, min_samples_leaf=50, min_samples_split=20, total=  10.0s\n",
      "[CV] max_depth=None, max_features=None, min_samples_leaf=50, min_samples_split=50 \n",
      "[CV]  max_depth=None, max_features=None, min_samples_leaf=50, min_samples_split=50, total=  10.3s\n",
      "[CV] max_depth=None, max_features=None, min_samples_leaf=50, min_samples_split=50 \n",
      "[CV]  max_depth=None, max_features=None, min_samples_leaf=50, min_samples_split=50, total=  10.2s\n",
      "[CV] max_depth=None, max_features=None, min_samples_leaf=50, min_samples_split=50 \n",
      "[CV]  max_depth=None, max_features=None, min_samples_leaf=50, min_samples_split=50, total=   9.8s\n",
      "[CV] max_depth=None, max_features=sqrt, min_samples_leaf=1, min_samples_split=2 \n",
      "[CV]  max_depth=None, max_features=sqrt, min_samples_leaf=1, min_samples_split=2, total=   1.7s\n",
      "[CV] max_depth=None, max_features=sqrt, min_samples_leaf=1, min_samples_split=2 \n",
      "[CV]  max_depth=None, max_features=sqrt, min_samples_leaf=1, min_samples_split=2, total=   1.8s\n",
      "[CV] max_depth=None, max_features=sqrt, min_samples_leaf=1, min_samples_split=2 \n",
      "[CV]  max_depth=None, max_features=sqrt, min_samples_leaf=1, min_samples_split=2, total=   1.8s\n",
      "[CV] max_depth=None, max_features=sqrt, min_samples_leaf=1, min_samples_split=20 \n",
      "[CV]  max_depth=None, max_features=sqrt, min_samples_leaf=1, min_samples_split=20, total=   1.7s\n",
      "[CV] max_depth=None, max_features=sqrt, min_samples_leaf=1, min_samples_split=20 \n",
      "[CV]  max_depth=None, max_features=sqrt, min_samples_leaf=1, min_samples_split=20, total=   1.7s\n",
      "[CV] max_depth=None, max_features=sqrt, min_samples_leaf=1, min_samples_split=20 \n",
      "[CV]  max_depth=None, max_features=sqrt, min_samples_leaf=1, min_samples_split=20, total=   1.8s\n",
      "[CV] max_depth=None, max_features=sqrt, min_samples_leaf=1, min_samples_split=50 \n",
      "[CV]  max_depth=None, max_features=sqrt, min_samples_leaf=1, min_samples_split=50, total=   1.6s\n",
      "[CV] max_depth=None, max_features=sqrt, min_samples_leaf=1, min_samples_split=50 \n",
      "[CV]  max_depth=None, max_features=sqrt, min_samples_leaf=1, min_samples_split=50, total=   1.6s\n",
      "[CV] max_depth=None, max_features=sqrt, min_samples_leaf=1, min_samples_split=50 \n",
      "[CV]  max_depth=None, max_features=sqrt, min_samples_leaf=1, min_samples_split=50, total=   1.6s\n",
      "[CV] max_depth=None, max_features=sqrt, min_samples_leaf=20, min_samples_split=2 \n",
      "[CV]  max_depth=None, max_features=sqrt, min_samples_leaf=20, min_samples_split=2, total=   1.4s\n",
      "[CV] max_depth=None, max_features=sqrt, min_samples_leaf=20, min_samples_split=2 \n",
      "[CV]  max_depth=None, max_features=sqrt, min_samples_leaf=20, min_samples_split=2, total=   1.4s\n",
      "[CV] max_depth=None, max_features=sqrt, min_samples_leaf=20, min_samples_split=2 \n",
      "[CV]  max_depth=None, max_features=sqrt, min_samples_leaf=20, min_samples_split=2, total=   1.4s\n",
      "[CV] max_depth=None, max_features=sqrt, min_samples_leaf=20, min_samples_split=20 \n",
      "[CV]  max_depth=None, max_features=sqrt, min_samples_leaf=20, min_samples_split=20, total=   1.4s\n",
      "[CV] max_depth=None, max_features=sqrt, min_samples_leaf=20, min_samples_split=20 \n",
      "[CV]  max_depth=None, max_features=sqrt, min_samples_leaf=20, min_samples_split=20, total=   1.4s\n",
      "[CV] max_depth=None, max_features=sqrt, min_samples_leaf=20, min_samples_split=20 \n",
      "[CV]  max_depth=None, max_features=sqrt, min_samples_leaf=20, min_samples_split=20, total=   1.4s\n",
      "[CV] max_depth=None, max_features=sqrt, min_samples_leaf=20, min_samples_split=50 \n",
      "[CV]  max_depth=None, max_features=sqrt, min_samples_leaf=20, min_samples_split=50, total=   1.4s\n",
      "[CV] max_depth=None, max_features=sqrt, min_samples_leaf=20, min_samples_split=50 \n",
      "[CV]  max_depth=None, max_features=sqrt, min_samples_leaf=20, min_samples_split=50, total=   1.4s\n",
      "[CV] max_depth=None, max_features=sqrt, min_samples_leaf=20, min_samples_split=50 \n",
      "[CV]  max_depth=None, max_features=sqrt, min_samples_leaf=20, min_samples_split=50, total=   1.4s\n",
      "[CV] max_depth=None, max_features=sqrt, min_samples_leaf=50, min_samples_split=2 \n",
      "[CV]  max_depth=None, max_features=sqrt, min_samples_leaf=50, min_samples_split=2, total=   1.2s\n",
      "[CV] max_depth=None, max_features=sqrt, min_samples_leaf=50, min_samples_split=2 \n",
      "[CV]  max_depth=None, max_features=sqrt, min_samples_leaf=50, min_samples_split=2, total=   1.2s\n",
      "[CV] max_depth=None, max_features=sqrt, min_samples_leaf=50, min_samples_split=2 \n"
     ]
    },
    {
     "name": "stdout",
     "output_type": "stream",
     "text": [
      "[CV]  max_depth=None, max_features=sqrt, min_samples_leaf=50, min_samples_split=2, total=   1.2s\n",
      "[CV] max_depth=None, max_features=sqrt, min_samples_leaf=50, min_samples_split=20 \n",
      "[CV]  max_depth=None, max_features=sqrt, min_samples_leaf=50, min_samples_split=20, total=   1.2s\n",
      "[CV] max_depth=None, max_features=sqrt, min_samples_leaf=50, min_samples_split=20 \n",
      "[CV]  max_depth=None, max_features=sqrt, min_samples_leaf=50, min_samples_split=20, total=   1.2s\n",
      "[CV] max_depth=None, max_features=sqrt, min_samples_leaf=50, min_samples_split=20 \n",
      "[CV]  max_depth=None, max_features=sqrt, min_samples_leaf=50, min_samples_split=20, total=   1.2s\n",
      "[CV] max_depth=None, max_features=sqrt, min_samples_leaf=50, min_samples_split=50 \n",
      "[CV]  max_depth=None, max_features=sqrt, min_samples_leaf=50, min_samples_split=50, total=   1.2s\n",
      "[CV] max_depth=None, max_features=sqrt, min_samples_leaf=50, min_samples_split=50 \n",
      "[CV]  max_depth=None, max_features=sqrt, min_samples_leaf=50, min_samples_split=50, total=   1.2s\n",
      "[CV] max_depth=None, max_features=sqrt, min_samples_leaf=50, min_samples_split=50 \n",
      "[CV]  max_depth=None, max_features=sqrt, min_samples_leaf=50, min_samples_split=50, total=   1.2s\n",
      "[CV] max_depth=None, max_features=log2, min_samples_leaf=1, min_samples_split=2 \n",
      "[CV]  max_depth=None, max_features=log2, min_samples_leaf=1, min_samples_split=2, total=   1.3s\n",
      "[CV] max_depth=None, max_features=log2, min_samples_leaf=1, min_samples_split=2 \n",
      "[CV]  max_depth=None, max_features=log2, min_samples_leaf=1, min_samples_split=2, total=   1.4s\n",
      "[CV] max_depth=None, max_features=log2, min_samples_leaf=1, min_samples_split=2 \n",
      "[CV]  max_depth=None, max_features=log2, min_samples_leaf=1, min_samples_split=2, total=   1.3s\n",
      "[CV] max_depth=None, max_features=log2, min_samples_leaf=1, min_samples_split=20 \n",
      "[CV]  max_depth=None, max_features=log2, min_samples_leaf=1, min_samples_split=20, total=   1.2s\n",
      "[CV] max_depth=None, max_features=log2, min_samples_leaf=1, min_samples_split=20 \n",
      "[CV]  max_depth=None, max_features=log2, min_samples_leaf=1, min_samples_split=20, total=   1.3s\n",
      "[CV] max_depth=None, max_features=log2, min_samples_leaf=1, min_samples_split=20 \n",
      "[CV]  max_depth=None, max_features=log2, min_samples_leaf=1, min_samples_split=20, total=   1.4s\n",
      "[CV] max_depth=None, max_features=log2, min_samples_leaf=1, min_samples_split=50 \n",
      "[CV]  max_depth=None, max_features=log2, min_samples_leaf=1, min_samples_split=50, total=   1.2s\n",
      "[CV] max_depth=None, max_features=log2, min_samples_leaf=1, min_samples_split=50 \n",
      "[CV]  max_depth=None, max_features=log2, min_samples_leaf=1, min_samples_split=50, total=   1.3s\n",
      "[CV] max_depth=None, max_features=log2, min_samples_leaf=1, min_samples_split=50 \n",
      "[CV]  max_depth=None, max_features=log2, min_samples_leaf=1, min_samples_split=50, total=   1.2s\n",
      "[CV] max_depth=None, max_features=log2, min_samples_leaf=20, min_samples_split=2 \n",
      "[CV]  max_depth=None, max_features=log2, min_samples_leaf=20, min_samples_split=2, total=   1.1s\n",
      "[CV] max_depth=None, max_features=log2, min_samples_leaf=20, min_samples_split=2 \n",
      "[CV]  max_depth=None, max_features=log2, min_samples_leaf=20, min_samples_split=2, total=   1.1s\n",
      "[CV] max_depth=None, max_features=log2, min_samples_leaf=20, min_samples_split=2 \n",
      "[CV]  max_depth=None, max_features=log2, min_samples_leaf=20, min_samples_split=2, total=   1.1s\n",
      "[CV] max_depth=None, max_features=log2, min_samples_leaf=20, min_samples_split=20 \n",
      "[CV]  max_depth=None, max_features=log2, min_samples_leaf=20, min_samples_split=20, total=   1.1s\n",
      "[CV] max_depth=None, max_features=log2, min_samples_leaf=20, min_samples_split=20 \n",
      "[CV]  max_depth=None, max_features=log2, min_samples_leaf=20, min_samples_split=20, total=   1.1s\n",
      "[CV] max_depth=None, max_features=log2, min_samples_leaf=20, min_samples_split=20 \n",
      "[CV]  max_depth=None, max_features=log2, min_samples_leaf=20, min_samples_split=20, total=   1.1s\n",
      "[CV] max_depth=None, max_features=log2, min_samples_leaf=20, min_samples_split=50 \n",
      "[CV]  max_depth=None, max_features=log2, min_samples_leaf=20, min_samples_split=50, total=   1.1s\n",
      "[CV] max_depth=None, max_features=log2, min_samples_leaf=20, min_samples_split=50 \n",
      "[CV]  max_depth=None, max_features=log2, min_samples_leaf=20, min_samples_split=50, total=   1.2s\n",
      "[CV] max_depth=None, max_features=log2, min_samples_leaf=20, min_samples_split=50 \n",
      "[CV]  max_depth=None, max_features=log2, min_samples_leaf=20, min_samples_split=50, total=   1.2s\n",
      "[CV] max_depth=None, max_features=log2, min_samples_leaf=50, min_samples_split=2 \n",
      "[CV]  max_depth=None, max_features=log2, min_samples_leaf=50, min_samples_split=2, total=   1.0s\n",
      "[CV] max_depth=None, max_features=log2, min_samples_leaf=50, min_samples_split=2 \n",
      "[CV]  max_depth=None, max_features=log2, min_samples_leaf=50, min_samples_split=2, total=   1.0s\n",
      "[CV] max_depth=None, max_features=log2, min_samples_leaf=50, min_samples_split=2 \n",
      "[CV]  max_depth=None, max_features=log2, min_samples_leaf=50, min_samples_split=2, total=   1.0s\n",
      "[CV] max_depth=None, max_features=log2, min_samples_leaf=50, min_samples_split=20 \n",
      "[CV]  max_depth=None, max_features=log2, min_samples_leaf=50, min_samples_split=20, total=   1.0s\n",
      "[CV] max_depth=None, max_features=log2, min_samples_leaf=50, min_samples_split=20 \n",
      "[CV]  max_depth=None, max_features=log2, min_samples_leaf=50, min_samples_split=20, total=   1.0s\n",
      "[CV] max_depth=None, max_features=log2, min_samples_leaf=50, min_samples_split=20 \n",
      "[CV]  max_depth=None, max_features=log2, min_samples_leaf=50, min_samples_split=20, total=   1.1s\n",
      "[CV] max_depth=None, max_features=log2, min_samples_leaf=50, min_samples_split=50 \n",
      "[CV]  max_depth=None, max_features=log2, min_samples_leaf=50, min_samples_split=50, total=   1.0s\n",
      "[CV] max_depth=None, max_features=log2, min_samples_leaf=50, min_samples_split=50 \n",
      "[CV]  max_depth=None, max_features=log2, min_samples_leaf=50, min_samples_split=50, total=   1.0s\n",
      "[CV] max_depth=None, max_features=log2, min_samples_leaf=50, min_samples_split=50 \n",
      "[CV]  max_depth=None, max_features=log2, min_samples_leaf=50, min_samples_split=50, total=   1.0s\n",
      "[CV] max_depth=5, max_features=None, min_samples_leaf=1, min_samples_split=2 \n",
      "[CV]  max_depth=5, max_features=None, min_samples_leaf=1, min_samples_split=2, total=   5.8s\n",
      "[CV] max_depth=5, max_features=None, min_samples_leaf=1, min_samples_split=2 \n",
      "[CV]  max_depth=5, max_features=None, min_samples_leaf=1, min_samples_split=2, total=   6.2s\n",
      "[CV] max_depth=5, max_features=None, min_samples_leaf=1, min_samples_split=2 \n",
      "[CV]  max_depth=5, max_features=None, min_samples_leaf=1, min_samples_split=2, total=   5.7s\n",
      "[CV] max_depth=5, max_features=None, min_samples_leaf=1, min_samples_split=20 \n",
      "[CV]  max_depth=5, max_features=None, min_samples_leaf=1, min_samples_split=20, total=   5.7s\n",
      "[CV] max_depth=5, max_features=None, min_samples_leaf=1, min_samples_split=20 \n",
      "[CV]  max_depth=5, max_features=None, min_samples_leaf=1, min_samples_split=20, total=   5.8s\n",
      "[CV] max_depth=5, max_features=None, min_samples_leaf=1, min_samples_split=20 \n",
      "[CV]  max_depth=5, max_features=None, min_samples_leaf=1, min_samples_split=20, total=   5.8s\n",
      "[CV] max_depth=5, max_features=None, min_samples_leaf=1, min_samples_split=50 \n",
      "[CV]  max_depth=5, max_features=None, min_samples_leaf=1, min_samples_split=50, total=   5.6s\n",
      "[CV] max_depth=5, max_features=None, min_samples_leaf=1, min_samples_split=50 \n",
      "[CV]  max_depth=5, max_features=None, min_samples_leaf=1, min_samples_split=50, total=   5.8s\n",
      "[CV] max_depth=5, max_features=None, min_samples_leaf=1, min_samples_split=50 \n",
      "[CV]  max_depth=5, max_features=None, min_samples_leaf=1, min_samples_split=50, total=   5.8s\n",
      "[CV] max_depth=5, max_features=None, min_samples_leaf=20, min_samples_split=2 \n",
      "[CV]  max_depth=5, max_features=None, min_samples_leaf=20, min_samples_split=2, total=   5.6s\n",
      "[CV] max_depth=5, max_features=None, min_samples_leaf=20, min_samples_split=2 \n",
      "[CV]  max_depth=5, max_features=None, min_samples_leaf=20, min_samples_split=2, total=   6.0s\n",
      "[CV] max_depth=5, max_features=None, min_samples_leaf=20, min_samples_split=2 \n",
      "[CV]  max_depth=5, max_features=None, min_samples_leaf=20, min_samples_split=2, total=   5.9s\n",
      "[CV] max_depth=5, max_features=None, min_samples_leaf=20, min_samples_split=20 \n",
      "[CV]  max_depth=5, max_features=None, min_samples_leaf=20, min_samples_split=20, total=   5.6s\n",
      "[CV] max_depth=5, max_features=None, min_samples_leaf=20, min_samples_split=20 \n"
     ]
    },
    {
     "name": "stdout",
     "output_type": "stream",
     "text": [
      "[CV]  max_depth=5, max_features=None, min_samples_leaf=20, min_samples_split=20, total=   5.7s\n",
      "[CV] max_depth=5, max_features=None, min_samples_leaf=20, min_samples_split=20 \n",
      "[CV]  max_depth=5, max_features=None, min_samples_leaf=20, min_samples_split=20, total=   5.7s\n",
      "[CV] max_depth=5, max_features=None, min_samples_leaf=20, min_samples_split=50 \n",
      "[CV]  max_depth=5, max_features=None, min_samples_leaf=20, min_samples_split=50, total=   5.4s\n",
      "[CV] max_depth=5, max_features=None, min_samples_leaf=20, min_samples_split=50 \n",
      "[CV]  max_depth=5, max_features=None, min_samples_leaf=20, min_samples_split=50, total=   5.6s\n",
      "[CV] max_depth=5, max_features=None, min_samples_leaf=20, min_samples_split=50 \n",
      "[CV]  max_depth=5, max_features=None, min_samples_leaf=20, min_samples_split=50, total=   5.5s\n",
      "[CV] max_depth=5, max_features=None, min_samples_leaf=50, min_samples_split=2 \n",
      "[CV]  max_depth=5, max_features=None, min_samples_leaf=50, min_samples_split=2, total=   5.3s\n",
      "[CV] max_depth=5, max_features=None, min_samples_leaf=50, min_samples_split=2 \n",
      "[CV]  max_depth=5, max_features=None, min_samples_leaf=50, min_samples_split=2, total=   5.4s\n",
      "[CV] max_depth=5, max_features=None, min_samples_leaf=50, min_samples_split=2 \n",
      "[CV]  max_depth=5, max_features=None, min_samples_leaf=50, min_samples_split=2, total=   5.4s\n",
      "[CV] max_depth=5, max_features=None, min_samples_leaf=50, min_samples_split=20 \n",
      "[CV]  max_depth=5, max_features=None, min_samples_leaf=50, min_samples_split=20, total=   5.2s\n",
      "[CV] max_depth=5, max_features=None, min_samples_leaf=50, min_samples_split=20 \n",
      "[CV]  max_depth=5, max_features=None, min_samples_leaf=50, min_samples_split=20, total=   5.3s\n",
      "[CV] max_depth=5, max_features=None, min_samples_leaf=50, min_samples_split=20 \n",
      "[CV]  max_depth=5, max_features=None, min_samples_leaf=50, min_samples_split=20, total=   5.4s\n",
      "[CV] max_depth=5, max_features=None, min_samples_leaf=50, min_samples_split=50 \n",
      "[CV]  max_depth=5, max_features=None, min_samples_leaf=50, min_samples_split=50, total=   5.3s\n",
      "[CV] max_depth=5, max_features=None, min_samples_leaf=50, min_samples_split=50 \n",
      "[CV]  max_depth=5, max_features=None, min_samples_leaf=50, min_samples_split=50, total=   5.4s\n",
      "[CV] max_depth=5, max_features=None, min_samples_leaf=50, min_samples_split=50 \n",
      "[CV]  max_depth=5, max_features=None, min_samples_leaf=50, min_samples_split=50, total=   5.4s\n",
      "[CV] max_depth=5, max_features=sqrt, min_samples_leaf=1, min_samples_split=2 \n",
      "[CV]  max_depth=5, max_features=sqrt, min_samples_leaf=1, min_samples_split=2, total=   0.8s\n",
      "[CV] max_depth=5, max_features=sqrt, min_samples_leaf=1, min_samples_split=2 \n",
      "[CV]  max_depth=5, max_features=sqrt, min_samples_leaf=1, min_samples_split=2, total=   0.8s\n",
      "[CV] max_depth=5, max_features=sqrt, min_samples_leaf=1, min_samples_split=2 \n",
      "[CV]  max_depth=5, max_features=sqrt, min_samples_leaf=1, min_samples_split=2, total=   0.8s\n",
      "[CV] max_depth=5, max_features=sqrt, min_samples_leaf=1, min_samples_split=20 \n",
      "[CV]  max_depth=5, max_features=sqrt, min_samples_leaf=1, min_samples_split=20, total=   0.8s\n",
      "[CV] max_depth=5, max_features=sqrt, min_samples_leaf=1, min_samples_split=20 \n",
      "[CV]  max_depth=5, max_features=sqrt, min_samples_leaf=1, min_samples_split=20, total=   0.8s\n",
      "[CV] max_depth=5, max_features=sqrt, min_samples_leaf=1, min_samples_split=20 \n",
      "[CV]  max_depth=5, max_features=sqrt, min_samples_leaf=1, min_samples_split=20, total=   0.8s\n",
      "[CV] max_depth=5, max_features=sqrt, min_samples_leaf=1, min_samples_split=50 \n",
      "[CV]  max_depth=5, max_features=sqrt, min_samples_leaf=1, min_samples_split=50, total=   0.8s\n",
      "[CV] max_depth=5, max_features=sqrt, min_samples_leaf=1, min_samples_split=50 \n",
      "[CV]  max_depth=5, max_features=sqrt, min_samples_leaf=1, min_samples_split=50, total=   0.8s\n",
      "[CV] max_depth=5, max_features=sqrt, min_samples_leaf=1, min_samples_split=50 \n",
      "[CV]  max_depth=5, max_features=sqrt, min_samples_leaf=1, min_samples_split=50, total=   0.8s\n",
      "[CV] max_depth=5, max_features=sqrt, min_samples_leaf=20, min_samples_split=2 \n",
      "[CV]  max_depth=5, max_features=sqrt, min_samples_leaf=20, min_samples_split=2, total=   0.8s\n",
      "[CV] max_depth=5, max_features=sqrt, min_samples_leaf=20, min_samples_split=2 \n",
      "[CV]  max_depth=5, max_features=sqrt, min_samples_leaf=20, min_samples_split=2, total=   0.8s\n",
      "[CV] max_depth=5, max_features=sqrt, min_samples_leaf=20, min_samples_split=2 \n",
      "[CV]  max_depth=5, max_features=sqrt, min_samples_leaf=20, min_samples_split=2, total=   0.8s\n",
      "[CV] max_depth=5, max_features=sqrt, min_samples_leaf=20, min_samples_split=20 \n",
      "[CV]  max_depth=5, max_features=sqrt, min_samples_leaf=20, min_samples_split=20, total=   0.8s\n",
      "[CV] max_depth=5, max_features=sqrt, min_samples_leaf=20, min_samples_split=20 \n",
      "[CV]  max_depth=5, max_features=sqrt, min_samples_leaf=20, min_samples_split=20, total=   0.8s\n",
      "[CV] max_depth=5, max_features=sqrt, min_samples_leaf=20, min_samples_split=20 \n",
      "[CV]  max_depth=5, max_features=sqrt, min_samples_leaf=20, min_samples_split=20, total=   0.8s\n",
      "[CV] max_depth=5, max_features=sqrt, min_samples_leaf=20, min_samples_split=50 \n",
      "[CV]  max_depth=5, max_features=sqrt, min_samples_leaf=20, min_samples_split=50, total=   0.8s\n",
      "[CV] max_depth=5, max_features=sqrt, min_samples_leaf=20, min_samples_split=50 \n",
      "[CV]  max_depth=5, max_features=sqrt, min_samples_leaf=20, min_samples_split=50, total=   0.8s\n",
      "[CV] max_depth=5, max_features=sqrt, min_samples_leaf=20, min_samples_split=50 \n",
      "[CV]  max_depth=5, max_features=sqrt, min_samples_leaf=20, min_samples_split=50, total=   0.8s\n",
      "[CV] max_depth=5, max_features=sqrt, min_samples_leaf=50, min_samples_split=2 \n",
      "[CV]  max_depth=5, max_features=sqrt, min_samples_leaf=50, min_samples_split=2, total=   0.8s\n",
      "[CV] max_depth=5, max_features=sqrt, min_samples_leaf=50, min_samples_split=2 \n",
      "[CV]  max_depth=5, max_features=sqrt, min_samples_leaf=50, min_samples_split=2, total=   0.8s\n",
      "[CV] max_depth=5, max_features=sqrt, min_samples_leaf=50, min_samples_split=2 \n",
      "[CV]  max_depth=5, max_features=sqrt, min_samples_leaf=50, min_samples_split=2, total=   0.8s\n",
      "[CV] max_depth=5, max_features=sqrt, min_samples_leaf=50, min_samples_split=20 \n",
      "[CV]  max_depth=5, max_features=sqrt, min_samples_leaf=50, min_samples_split=20, total=   0.8s\n",
      "[CV] max_depth=5, max_features=sqrt, min_samples_leaf=50, min_samples_split=20 \n",
      "[CV]  max_depth=5, max_features=sqrt, min_samples_leaf=50, min_samples_split=20, total=   0.8s\n",
      "[CV] max_depth=5, max_features=sqrt, min_samples_leaf=50, min_samples_split=20 \n",
      "[CV]  max_depth=5, max_features=sqrt, min_samples_leaf=50, min_samples_split=20, total=   0.8s\n",
      "[CV] max_depth=5, max_features=sqrt, min_samples_leaf=50, min_samples_split=50 \n",
      "[CV]  max_depth=5, max_features=sqrt, min_samples_leaf=50, min_samples_split=50, total=   0.8s\n",
      "[CV] max_depth=5, max_features=sqrt, min_samples_leaf=50, min_samples_split=50 \n",
      "[CV]  max_depth=5, max_features=sqrt, min_samples_leaf=50, min_samples_split=50, total=   0.8s\n",
      "[CV] max_depth=5, max_features=sqrt, min_samples_leaf=50, min_samples_split=50 \n",
      "[CV]  max_depth=5, max_features=sqrt, min_samples_leaf=50, min_samples_split=50, total=   0.8s\n",
      "[CV] max_depth=5, max_features=log2, min_samples_leaf=1, min_samples_split=2 \n",
      "[CV]  max_depth=5, max_features=log2, min_samples_leaf=1, min_samples_split=2, total=   0.6s\n",
      "[CV] max_depth=5, max_features=log2, min_samples_leaf=1, min_samples_split=2 \n",
      "[CV]  max_depth=5, max_features=log2, min_samples_leaf=1, min_samples_split=2, total=   0.6s\n",
      "[CV] max_depth=5, max_features=log2, min_samples_leaf=1, min_samples_split=2 \n",
      "[CV]  max_depth=5, max_features=log2, min_samples_leaf=1, min_samples_split=2, total=   0.6s\n",
      "[CV] max_depth=5, max_features=log2, min_samples_leaf=1, min_samples_split=20 \n",
      "[CV]  max_depth=5, max_features=log2, min_samples_leaf=1, min_samples_split=20, total=   0.6s\n",
      "[CV] max_depth=5, max_features=log2, min_samples_leaf=1, min_samples_split=20 \n",
      "[CV]  max_depth=5, max_features=log2, min_samples_leaf=1, min_samples_split=20, total=   0.6s\n",
      "[CV] max_depth=5, max_features=log2, min_samples_leaf=1, min_samples_split=20 \n",
      "[CV]  max_depth=5, max_features=log2, min_samples_leaf=1, min_samples_split=20, total=   0.6s\n",
      "[CV] max_depth=5, max_features=log2, min_samples_leaf=1, min_samples_split=50 \n",
      "[CV]  max_depth=5, max_features=log2, min_samples_leaf=1, min_samples_split=50, total=   0.6s\n",
      "[CV] max_depth=5, max_features=log2, min_samples_leaf=1, min_samples_split=50 \n"
     ]
    },
    {
     "name": "stdout",
     "output_type": "stream",
     "text": [
      "[CV]  max_depth=5, max_features=log2, min_samples_leaf=1, min_samples_split=50, total=   0.6s\n",
      "[CV] max_depth=5, max_features=log2, min_samples_leaf=1, min_samples_split=50 \n",
      "[CV]  max_depth=5, max_features=log2, min_samples_leaf=1, min_samples_split=50, total=   0.6s\n",
      "[CV] max_depth=5, max_features=log2, min_samples_leaf=20, min_samples_split=2 \n",
      "[CV]  max_depth=5, max_features=log2, min_samples_leaf=20, min_samples_split=2, total=   0.6s\n",
      "[CV] max_depth=5, max_features=log2, min_samples_leaf=20, min_samples_split=2 \n",
      "[CV]  max_depth=5, max_features=log2, min_samples_leaf=20, min_samples_split=2, total=   0.6s\n",
      "[CV] max_depth=5, max_features=log2, min_samples_leaf=20, min_samples_split=2 \n",
      "[CV]  max_depth=5, max_features=log2, min_samples_leaf=20, min_samples_split=2, total=   0.6s\n",
      "[CV] max_depth=5, max_features=log2, min_samples_leaf=20, min_samples_split=20 \n",
      "[CV]  max_depth=5, max_features=log2, min_samples_leaf=20, min_samples_split=20, total=   0.6s\n",
      "[CV] max_depth=5, max_features=log2, min_samples_leaf=20, min_samples_split=20 \n",
      "[CV]  max_depth=5, max_features=log2, min_samples_leaf=20, min_samples_split=20, total=   0.6s\n",
      "[CV] max_depth=5, max_features=log2, min_samples_leaf=20, min_samples_split=20 \n",
      "[CV]  max_depth=5, max_features=log2, min_samples_leaf=20, min_samples_split=20, total=   0.6s\n",
      "[CV] max_depth=5, max_features=log2, min_samples_leaf=20, min_samples_split=50 \n",
      "[CV]  max_depth=5, max_features=log2, min_samples_leaf=20, min_samples_split=50, total=   0.6s\n",
      "[CV] max_depth=5, max_features=log2, min_samples_leaf=20, min_samples_split=50 \n",
      "[CV]  max_depth=5, max_features=log2, min_samples_leaf=20, min_samples_split=50, total=   0.6s\n",
      "[CV] max_depth=5, max_features=log2, min_samples_leaf=20, min_samples_split=50 \n",
      "[CV]  max_depth=5, max_features=log2, min_samples_leaf=20, min_samples_split=50, total=   0.6s\n",
      "[CV] max_depth=5, max_features=log2, min_samples_leaf=50, min_samples_split=2 \n",
      "[CV]  max_depth=5, max_features=log2, min_samples_leaf=50, min_samples_split=2, total=   0.6s\n",
      "[CV] max_depth=5, max_features=log2, min_samples_leaf=50, min_samples_split=2 \n",
      "[CV]  max_depth=5, max_features=log2, min_samples_leaf=50, min_samples_split=2, total=   0.6s\n",
      "[CV] max_depth=5, max_features=log2, min_samples_leaf=50, min_samples_split=2 \n",
      "[CV]  max_depth=5, max_features=log2, min_samples_leaf=50, min_samples_split=2, total=   0.6s\n",
      "[CV] max_depth=5, max_features=log2, min_samples_leaf=50, min_samples_split=20 \n",
      "[CV]  max_depth=5, max_features=log2, min_samples_leaf=50, min_samples_split=20, total=   0.6s\n",
      "[CV] max_depth=5, max_features=log2, min_samples_leaf=50, min_samples_split=20 \n",
      "[CV]  max_depth=5, max_features=log2, min_samples_leaf=50, min_samples_split=20, total=   0.6s\n",
      "[CV] max_depth=5, max_features=log2, min_samples_leaf=50, min_samples_split=20 \n",
      "[CV]  max_depth=5, max_features=log2, min_samples_leaf=50, min_samples_split=20, total=   0.6s\n",
      "[CV] max_depth=5, max_features=log2, min_samples_leaf=50, min_samples_split=50 \n",
      "[CV]  max_depth=5, max_features=log2, min_samples_leaf=50, min_samples_split=50, total=   0.6s\n",
      "[CV] max_depth=5, max_features=log2, min_samples_leaf=50, min_samples_split=50 \n",
      "[CV]  max_depth=5, max_features=log2, min_samples_leaf=50, min_samples_split=50, total=   0.6s\n",
      "[CV] max_depth=5, max_features=log2, min_samples_leaf=50, min_samples_split=50 \n",
      "[CV]  max_depth=5, max_features=log2, min_samples_leaf=50, min_samples_split=50, total=   0.6s\n",
      "[CV] max_depth=10, max_features=None, min_samples_leaf=1, min_samples_split=2 \n",
      "[CV]  max_depth=10, max_features=None, min_samples_leaf=1, min_samples_split=2, total=   8.8s\n",
      "[CV] max_depth=10, max_features=None, min_samples_leaf=1, min_samples_split=2 \n",
      "[CV]  max_depth=10, max_features=None, min_samples_leaf=1, min_samples_split=2, total=   9.5s\n",
      "[CV] max_depth=10, max_features=None, min_samples_leaf=1, min_samples_split=2 \n",
      "[CV]  max_depth=10, max_features=None, min_samples_leaf=1, min_samples_split=2, total=   9.5s\n",
      "[CV] max_depth=10, max_features=None, min_samples_leaf=1, min_samples_split=20 \n",
      "[CV]  max_depth=10, max_features=None, min_samples_leaf=1, min_samples_split=20, total=   9.0s\n",
      "[CV] max_depth=10, max_features=None, min_samples_leaf=1, min_samples_split=20 \n",
      "[CV]  max_depth=10, max_features=None, min_samples_leaf=1, min_samples_split=20, total=   9.4s\n",
      "[CV] max_depth=10, max_features=None, min_samples_leaf=1, min_samples_split=20 \n",
      "[CV]  max_depth=10, max_features=None, min_samples_leaf=1, min_samples_split=20, total=   9.5s\n",
      "[CV] max_depth=10, max_features=None, min_samples_leaf=1, min_samples_split=50 \n",
      "[CV]  max_depth=10, max_features=None, min_samples_leaf=1, min_samples_split=50, total=   8.7s\n",
      "[CV] max_depth=10, max_features=None, min_samples_leaf=1, min_samples_split=50 \n",
      "[CV]  max_depth=10, max_features=None, min_samples_leaf=1, min_samples_split=50, total=   9.4s\n",
      "[CV] max_depth=10, max_features=None, min_samples_leaf=1, min_samples_split=50 \n",
      "[CV]  max_depth=10, max_features=None, min_samples_leaf=1, min_samples_split=50, total=   9.4s\n",
      "[CV] max_depth=10, max_features=None, min_samples_leaf=20, min_samples_split=2 \n",
      "[CV]  max_depth=10, max_features=None, min_samples_leaf=20, min_samples_split=2, total=   8.6s\n",
      "[CV] max_depth=10, max_features=None, min_samples_leaf=20, min_samples_split=2 \n",
      "[CV]  max_depth=10, max_features=None, min_samples_leaf=20, min_samples_split=2, total=   8.8s\n",
      "[CV] max_depth=10, max_features=None, min_samples_leaf=20, min_samples_split=2 \n",
      "[CV]  max_depth=10, max_features=None, min_samples_leaf=20, min_samples_split=2, total=   8.7s\n",
      "[CV] max_depth=10, max_features=None, min_samples_leaf=20, min_samples_split=20 \n",
      "[CV]  max_depth=10, max_features=None, min_samples_leaf=20, min_samples_split=20, total=   8.5s\n",
      "[CV] max_depth=10, max_features=None, min_samples_leaf=20, min_samples_split=20 \n",
      "[CV]  max_depth=10, max_features=None, min_samples_leaf=20, min_samples_split=20, total=   8.8s\n",
      "[CV] max_depth=10, max_features=None, min_samples_leaf=20, min_samples_split=20 \n",
      "[CV]  max_depth=10, max_features=None, min_samples_leaf=20, min_samples_split=20, total=   8.7s\n",
      "[CV] max_depth=10, max_features=None, min_samples_leaf=20, min_samples_split=50 \n",
      "[CV]  max_depth=10, max_features=None, min_samples_leaf=20, min_samples_split=50, total=   8.6s\n",
      "[CV] max_depth=10, max_features=None, min_samples_leaf=20, min_samples_split=50 \n",
      "[CV]  max_depth=10, max_features=None, min_samples_leaf=20, min_samples_split=50, total=   8.8s\n",
      "[CV] max_depth=10, max_features=None, min_samples_leaf=20, min_samples_split=50 \n",
      "[CV]  max_depth=10, max_features=None, min_samples_leaf=20, min_samples_split=50, total=   8.7s\n",
      "[CV] max_depth=10, max_features=None, min_samples_leaf=50, min_samples_split=2 \n",
      "[CV]  max_depth=10, max_features=None, min_samples_leaf=50, min_samples_split=2, total=   8.3s\n",
      "[CV] max_depth=10, max_features=None, min_samples_leaf=50, min_samples_split=2 \n",
      "[CV]  max_depth=10, max_features=None, min_samples_leaf=50, min_samples_split=2, total=   8.3s\n",
      "[CV] max_depth=10, max_features=None, min_samples_leaf=50, min_samples_split=2 \n",
      "[CV]  max_depth=10, max_features=None, min_samples_leaf=50, min_samples_split=2, total=   8.0s\n",
      "[CV] max_depth=10, max_features=None, min_samples_leaf=50, min_samples_split=20 \n",
      "[CV]  max_depth=10, max_features=None, min_samples_leaf=50, min_samples_split=20, total=   8.4s\n",
      "[CV] max_depth=10, max_features=None, min_samples_leaf=50, min_samples_split=20 \n",
      "[CV]  max_depth=10, max_features=None, min_samples_leaf=50, min_samples_split=20, total=   8.2s\n",
      "[CV] max_depth=10, max_features=None, min_samples_leaf=50, min_samples_split=20 \n",
      "[CV]  max_depth=10, max_features=None, min_samples_leaf=50, min_samples_split=20, total=   8.2s\n",
      "[CV] max_depth=10, max_features=None, min_samples_leaf=50, min_samples_split=50 \n",
      "[CV]  max_depth=10, max_features=None, min_samples_leaf=50, min_samples_split=50, total=   8.3s\n",
      "[CV] max_depth=10, max_features=None, min_samples_leaf=50, min_samples_split=50 \n",
      "[CV]  max_depth=10, max_features=None, min_samples_leaf=50, min_samples_split=50, total=   8.4s\n",
      "[CV] max_depth=10, max_features=None, min_samples_leaf=50, min_samples_split=50 \n",
      "[CV]  max_depth=10, max_features=None, min_samples_leaf=50, min_samples_split=50, total=   8.2s\n",
      "[CV] max_depth=10, max_features=sqrt, min_samples_leaf=1, min_samples_split=2 \n"
     ]
    },
    {
     "name": "stdout",
     "output_type": "stream",
     "text": [
      "[CV]  max_depth=10, max_features=sqrt, min_samples_leaf=1, min_samples_split=2, total=   1.2s\n",
      "[CV] max_depth=10, max_features=sqrt, min_samples_leaf=1, min_samples_split=2 \n",
      "[CV]  max_depth=10, max_features=sqrt, min_samples_leaf=1, min_samples_split=2, total=   1.3s\n",
      "[CV] max_depth=10, max_features=sqrt, min_samples_leaf=1, min_samples_split=2 \n",
      "[CV]  max_depth=10, max_features=sqrt, min_samples_leaf=1, min_samples_split=2, total=   1.3s\n",
      "[CV] max_depth=10, max_features=sqrt, min_samples_leaf=1, min_samples_split=20 \n",
      "[CV]  max_depth=10, max_features=sqrt, min_samples_leaf=1, min_samples_split=20, total=   1.2s\n",
      "[CV] max_depth=10, max_features=sqrt, min_samples_leaf=1, min_samples_split=20 \n",
      "[CV]  max_depth=10, max_features=sqrt, min_samples_leaf=1, min_samples_split=20, total=   1.3s\n",
      "[CV] max_depth=10, max_features=sqrt, min_samples_leaf=1, min_samples_split=20 \n",
      "[CV]  max_depth=10, max_features=sqrt, min_samples_leaf=1, min_samples_split=20, total=   1.3s\n",
      "[CV] max_depth=10, max_features=sqrt, min_samples_leaf=1, min_samples_split=50 \n",
      "[CV]  max_depth=10, max_features=sqrt, min_samples_leaf=1, min_samples_split=50, total=   1.2s\n",
      "[CV] max_depth=10, max_features=sqrt, min_samples_leaf=1, min_samples_split=50 \n",
      "[CV]  max_depth=10, max_features=sqrt, min_samples_leaf=1, min_samples_split=50, total=   1.3s\n",
      "[CV] max_depth=10, max_features=sqrt, min_samples_leaf=1, min_samples_split=50 \n",
      "[CV]  max_depth=10, max_features=sqrt, min_samples_leaf=1, min_samples_split=50, total=   1.3s\n",
      "[CV] max_depth=10, max_features=sqrt, min_samples_leaf=20, min_samples_split=2 \n",
      "[CV]  max_depth=10, max_features=sqrt, min_samples_leaf=20, min_samples_split=2, total=   1.2s\n",
      "[CV] max_depth=10, max_features=sqrt, min_samples_leaf=20, min_samples_split=2 \n",
      "[CV]  max_depth=10, max_features=sqrt, min_samples_leaf=20, min_samples_split=2, total=   1.2s\n",
      "[CV] max_depth=10, max_features=sqrt, min_samples_leaf=20, min_samples_split=2 \n",
      "[CV]  max_depth=10, max_features=sqrt, min_samples_leaf=20, min_samples_split=2, total=   1.2s\n",
      "[CV] max_depth=10, max_features=sqrt, min_samples_leaf=20, min_samples_split=20 \n",
      "[CV]  max_depth=10, max_features=sqrt, min_samples_leaf=20, min_samples_split=20, total=   1.2s\n",
      "[CV] max_depth=10, max_features=sqrt, min_samples_leaf=20, min_samples_split=20 \n",
      "[CV]  max_depth=10, max_features=sqrt, min_samples_leaf=20, min_samples_split=20, total=   1.2s\n",
      "[CV] max_depth=10, max_features=sqrt, min_samples_leaf=20, min_samples_split=20 \n",
      "[CV]  max_depth=10, max_features=sqrt, min_samples_leaf=20, min_samples_split=20, total=   1.2s\n",
      "[CV] max_depth=10, max_features=sqrt, min_samples_leaf=20, min_samples_split=50 \n",
      "[CV]  max_depth=10, max_features=sqrt, min_samples_leaf=20, min_samples_split=50, total=   1.2s\n",
      "[CV] max_depth=10, max_features=sqrt, min_samples_leaf=20, min_samples_split=50 \n",
      "[CV]  max_depth=10, max_features=sqrt, min_samples_leaf=20, min_samples_split=50, total=   1.2s\n",
      "[CV] max_depth=10, max_features=sqrt, min_samples_leaf=20, min_samples_split=50 \n",
      "[CV]  max_depth=10, max_features=sqrt, min_samples_leaf=20, min_samples_split=50, total=   1.2s\n",
      "[CV] max_depth=10, max_features=sqrt, min_samples_leaf=50, min_samples_split=2 \n",
      "[CV]  max_depth=10, max_features=sqrt, min_samples_leaf=50, min_samples_split=2, total=   1.1s\n",
      "[CV] max_depth=10, max_features=sqrt, min_samples_leaf=50, min_samples_split=2 \n",
      "[CV]  max_depth=10, max_features=sqrt, min_samples_leaf=50, min_samples_split=2, total=   1.1s\n",
      "[CV] max_depth=10, max_features=sqrt, min_samples_leaf=50, min_samples_split=2 \n",
      "[CV]  max_depth=10, max_features=sqrt, min_samples_leaf=50, min_samples_split=2, total=   1.1s\n",
      "[CV] max_depth=10, max_features=sqrt, min_samples_leaf=50, min_samples_split=20 \n",
      "[CV]  max_depth=10, max_features=sqrt, min_samples_leaf=50, min_samples_split=20, total=   1.1s\n",
      "[CV] max_depth=10, max_features=sqrt, min_samples_leaf=50, min_samples_split=20 \n",
      "[CV]  max_depth=10, max_features=sqrt, min_samples_leaf=50, min_samples_split=20, total=   1.2s\n",
      "[CV] max_depth=10, max_features=sqrt, min_samples_leaf=50, min_samples_split=20 \n",
      "[CV]  max_depth=10, max_features=sqrt, min_samples_leaf=50, min_samples_split=20, total=   1.1s\n",
      "[CV] max_depth=10, max_features=sqrt, min_samples_leaf=50, min_samples_split=50 \n",
      "[CV]  max_depth=10, max_features=sqrt, min_samples_leaf=50, min_samples_split=50, total=   1.1s\n",
      "[CV] max_depth=10, max_features=sqrt, min_samples_leaf=50, min_samples_split=50 \n",
      "[CV]  max_depth=10, max_features=sqrt, min_samples_leaf=50, min_samples_split=50, total=   1.1s\n",
      "[CV] max_depth=10, max_features=sqrt, min_samples_leaf=50, min_samples_split=50 \n",
      "[CV]  max_depth=10, max_features=sqrt, min_samples_leaf=50, min_samples_split=50, total=   1.1s\n",
      "[CV] max_depth=10, max_features=log2, min_samples_leaf=1, min_samples_split=2 \n",
      "[CV]  max_depth=10, max_features=log2, min_samples_leaf=1, min_samples_split=2, total=   0.9s\n",
      "[CV] max_depth=10, max_features=log2, min_samples_leaf=1, min_samples_split=2 \n",
      "[CV]  max_depth=10, max_features=log2, min_samples_leaf=1, min_samples_split=2, total=   1.0s\n",
      "[CV] max_depth=10, max_features=log2, min_samples_leaf=1, min_samples_split=2 \n",
      "[CV]  max_depth=10, max_features=log2, min_samples_leaf=1, min_samples_split=2, total=   1.0s\n",
      "[CV] max_depth=10, max_features=log2, min_samples_leaf=1, min_samples_split=20 \n",
      "[CV]  max_depth=10, max_features=log2, min_samples_leaf=1, min_samples_split=20, total=   0.9s\n",
      "[CV] max_depth=10, max_features=log2, min_samples_leaf=1, min_samples_split=20 \n",
      "[CV]  max_depth=10, max_features=log2, min_samples_leaf=1, min_samples_split=20, total=   1.0s\n",
      "[CV] max_depth=10, max_features=log2, min_samples_leaf=1, min_samples_split=20 \n",
      "[CV]  max_depth=10, max_features=log2, min_samples_leaf=1, min_samples_split=20, total=   1.0s\n",
      "[CV] max_depth=10, max_features=log2, min_samples_leaf=1, min_samples_split=50 \n",
      "[CV]  max_depth=10, max_features=log2, min_samples_leaf=1, min_samples_split=50, total=   0.9s\n",
      "[CV] max_depth=10, max_features=log2, min_samples_leaf=1, min_samples_split=50 \n",
      "[CV]  max_depth=10, max_features=log2, min_samples_leaf=1, min_samples_split=50, total=   1.0s\n",
      "[CV] max_depth=10, max_features=log2, min_samples_leaf=1, min_samples_split=50 \n",
      "[CV]  max_depth=10, max_features=log2, min_samples_leaf=1, min_samples_split=50, total=   1.0s\n",
      "[CV] max_depth=10, max_features=log2, min_samples_leaf=20, min_samples_split=2 \n",
      "[CV]  max_depth=10, max_features=log2, min_samples_leaf=20, min_samples_split=2, total=   0.9s\n",
      "[CV] max_depth=10, max_features=log2, min_samples_leaf=20, min_samples_split=2 \n",
      "[CV]  max_depth=10, max_features=log2, min_samples_leaf=20, min_samples_split=2, total=   0.9s\n",
      "[CV] max_depth=10, max_features=log2, min_samples_leaf=20, min_samples_split=2 \n",
      "[CV]  max_depth=10, max_features=log2, min_samples_leaf=20, min_samples_split=2, total=   0.9s\n",
      "[CV] max_depth=10, max_features=log2, min_samples_leaf=20, min_samples_split=20 \n",
      "[CV]  max_depth=10, max_features=log2, min_samples_leaf=20, min_samples_split=20, total=   0.9s\n",
      "[CV] max_depth=10, max_features=log2, min_samples_leaf=20, min_samples_split=20 \n",
      "[CV]  max_depth=10, max_features=log2, min_samples_leaf=20, min_samples_split=20, total=   1.0s\n",
      "[CV] max_depth=10, max_features=log2, min_samples_leaf=20, min_samples_split=20 \n",
      "[CV]  max_depth=10, max_features=log2, min_samples_leaf=20, min_samples_split=20, total=   0.9s\n",
      "[CV] max_depth=10, max_features=log2, min_samples_leaf=20, min_samples_split=50 \n",
      "[CV]  max_depth=10, max_features=log2, min_samples_leaf=20, min_samples_split=50, total=   0.9s\n",
      "[CV] max_depth=10, max_features=log2, min_samples_leaf=20, min_samples_split=50 \n",
      "[CV]  max_depth=10, max_features=log2, min_samples_leaf=20, min_samples_split=50, total=   0.9s\n",
      "[CV] max_depth=10, max_features=log2, min_samples_leaf=20, min_samples_split=50 \n",
      "[CV]  max_depth=10, max_features=log2, min_samples_leaf=20, min_samples_split=50, total=   0.9s\n",
      "[CV] max_depth=10, max_features=log2, min_samples_leaf=50, min_samples_split=2 \n",
      "[CV]  max_depth=10, max_features=log2, min_samples_leaf=50, min_samples_split=2, total=   0.9s\n",
      "[CV] max_depth=10, max_features=log2, min_samples_leaf=50, min_samples_split=2 \n",
      "[CV]  max_depth=10, max_features=log2, min_samples_leaf=50, min_samples_split=2, total=   0.8s\n",
      "[CV] max_depth=10, max_features=log2, min_samples_leaf=50, min_samples_split=2 \n"
     ]
    },
    {
     "name": "stdout",
     "output_type": "stream",
     "text": [
      "[CV]  max_depth=10, max_features=log2, min_samples_leaf=50, min_samples_split=2, total=   0.8s\n",
      "[CV] max_depth=10, max_features=log2, min_samples_leaf=50, min_samples_split=20 \n",
      "[CV]  max_depth=10, max_features=log2, min_samples_leaf=50, min_samples_split=20, total=   0.8s\n",
      "[CV] max_depth=10, max_features=log2, min_samples_leaf=50, min_samples_split=20 \n",
      "[CV]  max_depth=10, max_features=log2, min_samples_leaf=50, min_samples_split=20, total=   0.9s\n",
      "[CV] max_depth=10, max_features=log2, min_samples_leaf=50, min_samples_split=20 \n",
      "[CV]  max_depth=10, max_features=log2, min_samples_leaf=50, min_samples_split=20, total=   0.9s\n",
      "[CV] max_depth=10, max_features=log2, min_samples_leaf=50, min_samples_split=50 \n",
      "[CV]  max_depth=10, max_features=log2, min_samples_leaf=50, min_samples_split=50, total=   0.9s\n",
      "[CV] max_depth=10, max_features=log2, min_samples_leaf=50, min_samples_split=50 \n",
      "[CV]  max_depth=10, max_features=log2, min_samples_leaf=50, min_samples_split=50, total=   0.8s\n",
      "[CV] max_depth=10, max_features=log2, min_samples_leaf=50, min_samples_split=50 \n",
      "[CV]  max_depth=10, max_features=log2, min_samples_leaf=50, min_samples_split=50, total=   0.8s\n",
      "[CV] max_depth=20, max_features=None, min_samples_leaf=1, min_samples_split=2 \n",
      "[CV]  max_depth=20, max_features=None, min_samples_leaf=1, min_samples_split=2, total=  12.8s\n",
      "[CV] max_depth=20, max_features=None, min_samples_leaf=1, min_samples_split=2 \n",
      "[CV]  max_depth=20, max_features=None, min_samples_leaf=1, min_samples_split=2, total=  13.5s\n",
      "[CV] max_depth=20, max_features=None, min_samples_leaf=1, min_samples_split=2 \n",
      "[CV]  max_depth=20, max_features=None, min_samples_leaf=1, min_samples_split=2, total=  13.0s\n",
      "[CV] max_depth=20, max_features=None, min_samples_leaf=1, min_samples_split=20 \n",
      "[CV]  max_depth=20, max_features=None, min_samples_leaf=1, min_samples_split=20, total=  12.6s\n",
      "[CV] max_depth=20, max_features=None, min_samples_leaf=1, min_samples_split=20 \n",
      "[CV]  max_depth=20, max_features=None, min_samples_leaf=1, min_samples_split=20, total=  13.3s\n",
      "[CV] max_depth=20, max_features=None, min_samples_leaf=1, min_samples_split=20 \n",
      "[CV]  max_depth=20, max_features=None, min_samples_leaf=1, min_samples_split=20, total=  13.1s\n",
      "[CV] max_depth=20, max_features=None, min_samples_leaf=1, min_samples_split=50 \n",
      "[CV]  max_depth=20, max_features=None, min_samples_leaf=1, min_samples_split=50, total=  12.3s\n",
      "[CV] max_depth=20, max_features=None, min_samples_leaf=1, min_samples_split=50 \n",
      "[CV]  max_depth=20, max_features=None, min_samples_leaf=1, min_samples_split=50, total=  13.2s\n",
      "[CV] max_depth=20, max_features=None, min_samples_leaf=1, min_samples_split=50 \n",
      "[CV]  max_depth=20, max_features=None, min_samples_leaf=1, min_samples_split=50, total=  12.8s\n",
      "[CV] max_depth=20, max_features=None, min_samples_leaf=20, min_samples_split=2 \n",
      "[CV]  max_depth=20, max_features=None, min_samples_leaf=20, min_samples_split=2, total=  11.4s\n",
      "[CV] max_depth=20, max_features=None, min_samples_leaf=20, min_samples_split=2 \n",
      "[CV]  max_depth=20, max_features=None, min_samples_leaf=20, min_samples_split=2, total=  11.7s\n",
      "[CV] max_depth=20, max_features=None, min_samples_leaf=20, min_samples_split=2 \n",
      "[CV]  max_depth=20, max_features=None, min_samples_leaf=20, min_samples_split=2, total=  11.4s\n",
      "[CV] max_depth=20, max_features=None, min_samples_leaf=20, min_samples_split=20 \n",
      "[CV]  max_depth=20, max_features=None, min_samples_leaf=20, min_samples_split=20, total=  11.3s\n",
      "[CV] max_depth=20, max_features=None, min_samples_leaf=20, min_samples_split=20 \n",
      "[CV]  max_depth=20, max_features=None, min_samples_leaf=20, min_samples_split=20, total=  11.7s\n",
      "[CV] max_depth=20, max_features=None, min_samples_leaf=20, min_samples_split=20 \n",
      "[CV]  max_depth=20, max_features=None, min_samples_leaf=20, min_samples_split=20, total=  11.4s\n",
      "[CV] max_depth=20, max_features=None, min_samples_leaf=20, min_samples_split=50 \n",
      "[CV]  max_depth=20, max_features=None, min_samples_leaf=20, min_samples_split=50, total=  11.5s\n",
      "[CV] max_depth=20, max_features=None, min_samples_leaf=20, min_samples_split=50 \n",
      "[CV]  max_depth=20, max_features=None, min_samples_leaf=20, min_samples_split=50, total=  11.9s\n",
      "[CV] max_depth=20, max_features=None, min_samples_leaf=20, min_samples_split=50 \n",
      "[CV]  max_depth=20, max_features=None, min_samples_leaf=20, min_samples_split=50, total=  11.3s\n",
      "[CV] max_depth=20, max_features=None, min_samples_leaf=50, min_samples_split=2 \n",
      "[CV]  max_depth=20, max_features=None, min_samples_leaf=50, min_samples_split=2, total=  10.1s\n",
      "[CV] max_depth=20, max_features=None, min_samples_leaf=50, min_samples_split=2 \n",
      "[CV]  max_depth=20, max_features=None, min_samples_leaf=50, min_samples_split=2, total=  10.1s\n",
      "[CV] max_depth=20, max_features=None, min_samples_leaf=50, min_samples_split=2 \n",
      "[CV]  max_depth=20, max_features=None, min_samples_leaf=50, min_samples_split=2, total=  10.2s\n",
      "[CV] max_depth=20, max_features=None, min_samples_leaf=50, min_samples_split=20 \n",
      "[CV]  max_depth=20, max_features=None, min_samples_leaf=50, min_samples_split=20, total=  10.2s\n",
      "[CV] max_depth=20, max_features=None, min_samples_leaf=50, min_samples_split=20 \n",
      "[CV]  max_depth=20, max_features=None, min_samples_leaf=50, min_samples_split=20, total=  10.2s\n",
      "[CV] max_depth=20, max_features=None, min_samples_leaf=50, min_samples_split=20 \n",
      "[CV]  max_depth=20, max_features=None, min_samples_leaf=50, min_samples_split=20, total=   9.9s\n",
      "[CV] max_depth=20, max_features=None, min_samples_leaf=50, min_samples_split=50 \n",
      "[CV]  max_depth=20, max_features=None, min_samples_leaf=50, min_samples_split=50, total=  10.2s\n",
      "[CV] max_depth=20, max_features=None, min_samples_leaf=50, min_samples_split=50 \n",
      "[CV]  max_depth=20, max_features=None, min_samples_leaf=50, min_samples_split=50, total=  10.2s\n",
      "[CV] max_depth=20, max_features=None, min_samples_leaf=50, min_samples_split=50 \n",
      "[CV]  max_depth=20, max_features=None, min_samples_leaf=50, min_samples_split=50, total=   9.9s\n",
      "[CV] max_depth=20, max_features=sqrt, min_samples_leaf=1, min_samples_split=2 \n",
      "[CV]  max_depth=20, max_features=sqrt, min_samples_leaf=1, min_samples_split=2, total=   1.6s\n",
      "[CV] max_depth=20, max_features=sqrt, min_samples_leaf=1, min_samples_split=2 \n",
      "[CV]  max_depth=20, max_features=sqrt, min_samples_leaf=1, min_samples_split=2, total=   1.7s\n",
      "[CV] max_depth=20, max_features=sqrt, min_samples_leaf=1, min_samples_split=2 \n",
      "[CV]  max_depth=20, max_features=sqrt, min_samples_leaf=1, min_samples_split=2, total=   1.7s\n",
      "[CV] max_depth=20, max_features=sqrt, min_samples_leaf=1, min_samples_split=20 \n",
      "[CV]  max_depth=20, max_features=sqrt, min_samples_leaf=1, min_samples_split=20, total=   1.6s\n",
      "[CV] max_depth=20, max_features=sqrt, min_samples_leaf=1, min_samples_split=20 \n",
      "[CV]  max_depth=20, max_features=sqrt, min_samples_leaf=1, min_samples_split=20, total=   1.6s\n",
      "[CV] max_depth=20, max_features=sqrt, min_samples_leaf=1, min_samples_split=20 \n",
      "[CV]  max_depth=20, max_features=sqrt, min_samples_leaf=1, min_samples_split=20, total=   1.7s\n",
      "[CV] max_depth=20, max_features=sqrt, min_samples_leaf=1, min_samples_split=50 \n",
      "[CV]  max_depth=20, max_features=sqrt, min_samples_leaf=1, min_samples_split=50, total=   1.5s\n",
      "[CV] max_depth=20, max_features=sqrt, min_samples_leaf=1, min_samples_split=50 \n",
      "[CV]  max_depth=20, max_features=sqrt, min_samples_leaf=1, min_samples_split=50, total=   1.5s\n",
      "[CV] max_depth=20, max_features=sqrt, min_samples_leaf=1, min_samples_split=50 \n",
      "[CV]  max_depth=20, max_features=sqrt, min_samples_leaf=1, min_samples_split=50, total=   1.6s\n",
      "[CV] max_depth=20, max_features=sqrt, min_samples_leaf=20, min_samples_split=2 \n",
      "[CV]  max_depth=20, max_features=sqrt, min_samples_leaf=20, min_samples_split=2, total=   1.4s\n",
      "[CV] max_depth=20, max_features=sqrt, min_samples_leaf=20, min_samples_split=2 \n",
      "[CV]  max_depth=20, max_features=sqrt, min_samples_leaf=20, min_samples_split=2, total=   1.4s\n",
      "[CV] max_depth=20, max_features=sqrt, min_samples_leaf=20, min_samples_split=2 \n",
      "[CV]  max_depth=20, max_features=sqrt, min_samples_leaf=20, min_samples_split=2, total=   1.4s\n",
      "[CV] max_depth=20, max_features=sqrt, min_samples_leaf=20, min_samples_split=20 \n",
      "[CV]  max_depth=20, max_features=sqrt, min_samples_leaf=20, min_samples_split=20, total=   1.4s\n",
      "[CV] max_depth=20, max_features=sqrt, min_samples_leaf=20, min_samples_split=20 \n"
     ]
    },
    {
     "name": "stdout",
     "output_type": "stream",
     "text": [
      "[CV]  max_depth=20, max_features=sqrt, min_samples_leaf=20, min_samples_split=20, total=   1.4s\n",
      "[CV] max_depth=20, max_features=sqrt, min_samples_leaf=20, min_samples_split=20 \n",
      "[CV]  max_depth=20, max_features=sqrt, min_samples_leaf=20, min_samples_split=20, total=   1.4s\n",
      "[CV] max_depth=20, max_features=sqrt, min_samples_leaf=20, min_samples_split=50 \n",
      "[CV]  max_depth=20, max_features=sqrt, min_samples_leaf=20, min_samples_split=50, total=   1.4s\n",
      "[CV] max_depth=20, max_features=sqrt, min_samples_leaf=20, min_samples_split=50 \n",
      "[CV]  max_depth=20, max_features=sqrt, min_samples_leaf=20, min_samples_split=50, total=   1.4s\n",
      "[CV] max_depth=20, max_features=sqrt, min_samples_leaf=20, min_samples_split=50 \n",
      "[CV]  max_depth=20, max_features=sqrt, min_samples_leaf=20, min_samples_split=50, total=   1.4s\n",
      "[CV] max_depth=20, max_features=sqrt, min_samples_leaf=50, min_samples_split=2 \n",
      "[CV]  max_depth=20, max_features=sqrt, min_samples_leaf=50, min_samples_split=2, total=   1.2s\n",
      "[CV] max_depth=20, max_features=sqrt, min_samples_leaf=50, min_samples_split=2 \n",
      "[CV]  max_depth=20, max_features=sqrt, min_samples_leaf=50, min_samples_split=2, total=   1.2s\n",
      "[CV] max_depth=20, max_features=sqrt, min_samples_leaf=50, min_samples_split=2 \n",
      "[CV]  max_depth=20, max_features=sqrt, min_samples_leaf=50, min_samples_split=2, total=   1.2s\n",
      "[CV] max_depth=20, max_features=sqrt, min_samples_leaf=50, min_samples_split=20 \n",
      "[CV]  max_depth=20, max_features=sqrt, min_samples_leaf=50, min_samples_split=20, total=   1.2s\n",
      "[CV] max_depth=20, max_features=sqrt, min_samples_leaf=50, min_samples_split=20 \n",
      "[CV]  max_depth=20, max_features=sqrt, min_samples_leaf=50, min_samples_split=20, total=   1.2s\n",
      "[CV] max_depth=20, max_features=sqrt, min_samples_leaf=50, min_samples_split=20 \n",
      "[CV]  max_depth=20, max_features=sqrt, min_samples_leaf=50, min_samples_split=20, total=   1.2s\n",
      "[CV] max_depth=20, max_features=sqrt, min_samples_leaf=50, min_samples_split=50 \n",
      "[CV]  max_depth=20, max_features=sqrt, min_samples_leaf=50, min_samples_split=50, total=   1.2s\n",
      "[CV] max_depth=20, max_features=sqrt, min_samples_leaf=50, min_samples_split=50 \n",
      "[CV]  max_depth=20, max_features=sqrt, min_samples_leaf=50, min_samples_split=50, total=   1.2s\n",
      "[CV] max_depth=20, max_features=sqrt, min_samples_leaf=50, min_samples_split=50 \n",
      "[CV]  max_depth=20, max_features=sqrt, min_samples_leaf=50, min_samples_split=50, total=   1.2s\n",
      "[CV] max_depth=20, max_features=log2, min_samples_leaf=1, min_samples_split=2 \n",
      "[CV]  max_depth=20, max_features=log2, min_samples_leaf=1, min_samples_split=2, total=   1.3s\n",
      "[CV] max_depth=20, max_features=log2, min_samples_leaf=1, min_samples_split=2 \n",
      "[CV]  max_depth=20, max_features=log2, min_samples_leaf=1, min_samples_split=2, total=   1.3s\n",
      "[CV] max_depth=20, max_features=log2, min_samples_leaf=1, min_samples_split=2 \n",
      "[CV]  max_depth=20, max_features=log2, min_samples_leaf=1, min_samples_split=2, total=   1.3s\n",
      "[CV] max_depth=20, max_features=log2, min_samples_leaf=1, min_samples_split=20 \n",
      "[CV]  max_depth=20, max_features=log2, min_samples_leaf=1, min_samples_split=20, total=   1.2s\n",
      "[CV] max_depth=20, max_features=log2, min_samples_leaf=1, min_samples_split=20 \n",
      "[CV]  max_depth=20, max_features=log2, min_samples_leaf=1, min_samples_split=20, total=   1.3s\n",
      "[CV] max_depth=20, max_features=log2, min_samples_leaf=1, min_samples_split=20 \n",
      "[CV]  max_depth=20, max_features=log2, min_samples_leaf=1, min_samples_split=20, total=   1.2s\n",
      "[CV] max_depth=20, max_features=log2, min_samples_leaf=1, min_samples_split=50 \n",
      "[CV]  max_depth=20, max_features=log2, min_samples_leaf=1, min_samples_split=50, total=   1.1s\n",
      "[CV] max_depth=20, max_features=log2, min_samples_leaf=1, min_samples_split=50 \n",
      "[CV]  max_depth=20, max_features=log2, min_samples_leaf=1, min_samples_split=50, total=   1.2s\n",
      "[CV] max_depth=20, max_features=log2, min_samples_leaf=1, min_samples_split=50 \n",
      "[CV]  max_depth=20, max_features=log2, min_samples_leaf=1, min_samples_split=50, total=   1.2s\n",
      "[CV] max_depth=20, max_features=log2, min_samples_leaf=20, min_samples_split=2 \n",
      "[CV]  max_depth=20, max_features=log2, min_samples_leaf=20, min_samples_split=2, total=   1.0s\n",
      "[CV] max_depth=20, max_features=log2, min_samples_leaf=20, min_samples_split=2 \n",
      "[CV]  max_depth=20, max_features=log2, min_samples_leaf=20, min_samples_split=2, total=   1.1s\n",
      "[CV] max_depth=20, max_features=log2, min_samples_leaf=20, min_samples_split=2 \n",
      "[CV]  max_depth=20, max_features=log2, min_samples_leaf=20, min_samples_split=2, total=   1.1s\n",
      "[CV] max_depth=20, max_features=log2, min_samples_leaf=20, min_samples_split=20 \n",
      "[CV]  max_depth=20, max_features=log2, min_samples_leaf=20, min_samples_split=20, total=   1.1s\n",
      "[CV] max_depth=20, max_features=log2, min_samples_leaf=20, min_samples_split=20 \n",
      "[CV]  max_depth=20, max_features=log2, min_samples_leaf=20, min_samples_split=20, total=   1.1s\n",
      "[CV] max_depth=20, max_features=log2, min_samples_leaf=20, min_samples_split=20 \n",
      "[CV]  max_depth=20, max_features=log2, min_samples_leaf=20, min_samples_split=20, total=   1.1s\n",
      "[CV] max_depth=20, max_features=log2, min_samples_leaf=20, min_samples_split=50 \n",
      "[CV]  max_depth=20, max_features=log2, min_samples_leaf=20, min_samples_split=50, total=   1.0s\n",
      "[CV] max_depth=20, max_features=log2, min_samples_leaf=20, min_samples_split=50 \n",
      "[CV]  max_depth=20, max_features=log2, min_samples_leaf=20, min_samples_split=50, total=   1.0s\n",
      "[CV] max_depth=20, max_features=log2, min_samples_leaf=20, min_samples_split=50 \n",
      "[CV]  max_depth=20, max_features=log2, min_samples_leaf=20, min_samples_split=50, total=   1.1s\n",
      "[CV] max_depth=20, max_features=log2, min_samples_leaf=50, min_samples_split=2 \n",
      "[CV]  max_depth=20, max_features=log2, min_samples_leaf=50, min_samples_split=2, total=   0.9s\n",
      "[CV] max_depth=20, max_features=log2, min_samples_leaf=50, min_samples_split=2 \n",
      "[CV]  max_depth=20, max_features=log2, min_samples_leaf=50, min_samples_split=2, total=   0.9s\n",
      "[CV] max_depth=20, max_features=log2, min_samples_leaf=50, min_samples_split=2 \n",
      "[CV]  max_depth=20, max_features=log2, min_samples_leaf=50, min_samples_split=2, total=   0.9s\n",
      "[CV] max_depth=20, max_features=log2, min_samples_leaf=50, min_samples_split=20 \n",
      "[CV]  max_depth=20, max_features=log2, min_samples_leaf=50, min_samples_split=20, total=   0.9s\n",
      "[CV] max_depth=20, max_features=log2, min_samples_leaf=50, min_samples_split=20 \n",
      "[CV]  max_depth=20, max_features=log2, min_samples_leaf=50, min_samples_split=20, total=   0.9s\n",
      "[CV] max_depth=20, max_features=log2, min_samples_leaf=50, min_samples_split=20 \n",
      "[CV]  max_depth=20, max_features=log2, min_samples_leaf=50, min_samples_split=20, total=   0.9s\n",
      "[CV] max_depth=20, max_features=log2, min_samples_leaf=50, min_samples_split=50 \n",
      "[CV]  max_depth=20, max_features=log2, min_samples_leaf=50, min_samples_split=50, total=   0.9s\n",
      "[CV] max_depth=20, max_features=log2, min_samples_leaf=50, min_samples_split=50 \n",
      "[CV]  max_depth=20, max_features=log2, min_samples_leaf=50, min_samples_split=50, total=   0.9s\n",
      "[CV] max_depth=20, max_features=log2, min_samples_leaf=50, min_samples_split=50 \n",
      "[CV]  max_depth=20, max_features=log2, min_samples_leaf=50, min_samples_split=50, total=   0.9s\n"
     ]
    },
    {
     "name": "stderr",
     "output_type": "stream",
     "text": [
      "[Parallel(n_jobs=1)]: Done 324 out of 324 | elapsed: 22.1min finished\n"
     ]
    },
    {
     "data": {
      "text/plain": [
       "GridSearchCV(cv=None, error_score='raise',\n",
       "       estimator=RandomForestClassifier(bootstrap=True, class_weight=None, criterion='gini',\n",
       "            max_depth=None, max_features='auto', max_leaf_nodes=None,\n",
       "            min_impurity_decrease=0.0, min_impurity_split=None,\n",
       "            min_samples_leaf=1, min_samples_split=2,\n",
       "            min_weight_fraction_leaf=0.0, n_estimators=100, n_jobs=1,\n",
       "            oob_score=False, random_state=42, verbose=0, warm_start=False),\n",
       "       fit_params=None, iid=True, n_jobs=1,\n",
       "       param_grid={'max_features': [None, 'sqrt', 'log2'], 'max_depth': [None, 5, 10, 20], 'min_samples_split': [2, 20, 50], 'min_samples_leaf': [1, 20, 50]},\n",
       "       pre_dispatch='2*n_jobs', refit=True, return_train_score=True,\n",
       "       scoring='roc_auc', verbose=2)"
      ]
     },
     "execution_count": 10,
     "metadata": {},
     "output_type": "execute_result"
    }
   ],
   "source": [
    "# Define random forest classifier, a parameter grid,\n",
    "# and a grid search cv to find the best parameters for the\n",
    "# random forest, try to maximize auc.\n",
    "clf = RandomForestClassifier(n_estimators=100, random_state=42)\n",
    "\n",
    "param_grid = {\n",
    "    'max_features': [None, 'sqrt', 'log2'],\n",
    "    'max_depth': [None, 5, 10, 20],\n",
    "    'min_samples_split': [2, 20, 50],\n",
    "    'min_samples_leaf': [1, 20, 50]\n",
    "}\n",
    "\n",
    "cv_clf = GridSearchCV(clf, param_grid, 'roc_auc', verbose=2)\n",
    "\n",
    "cv_clf.fit(X_resampled, y_resampled)"
   ]
  },
  {
   "cell_type": "code",
   "execution_count": 11,
   "metadata": {
    "ExecuteTime": {
     "end_time": "2017-09-04T23:46:14.196741Z",
     "start_time": "2017-09-04T23:46:14.191737Z"
    }
   },
   "outputs": [
    {
     "name": "stdout",
     "output_type": "stream",
     "text": [
      "{'max_depth': None, 'max_features': None, 'min_samples_leaf': 1, 'min_samples_split': 2}\n"
     ]
    }
   ],
   "source": [
    "print(cv_clf.best_params_)"
   ]
  },
  {
   "cell_type": "markdown",
   "metadata": {},
   "source": [
    "# Random forest with best parameters"
   ]
  },
  {
   "cell_type": "code",
   "execution_count": 12,
   "metadata": {
    "ExecuteTime": {
     "end_time": "2017-09-04T23:50:12.102592Z",
     "start_time": "2017-09-04T23:46:20.118671Z"
    }
   },
   "outputs": [
    {
     "data": {
      "text/plain": [
       "RandomForestClassifier(bootstrap=True, class_weight=None, criterion='gini',\n",
       "            max_depth=None, max_features=None, max_leaf_nodes=None,\n",
       "            min_impurity_decrease=0.0, min_impurity_split=None,\n",
       "            min_samples_leaf=1, min_samples_split=2,\n",
       "            min_weight_fraction_leaf=0.0, n_estimators=1000, n_jobs=1,\n",
       "            oob_score=False, random_state=42, verbose=0, warm_start=False)"
      ]
     },
     "execution_count": 12,
     "metadata": {},
     "output_type": "execute_result"
    }
   ],
   "source": [
    "# Now up the estimators in the random forest, and apply the best parameters\n",
    "clf = RandomForestClassifier(\n",
    "    n_estimators=1000, max_features=None, random_state=42)\n",
    "\n",
    "clf.fit(X_resampled, y_resampled)"
   ]
  },
  {
   "cell_type": "code",
   "execution_count": 13,
   "metadata": {
    "ExecuteTime": {
     "end_time": "2017-09-04T23:50:19.059897Z",
     "start_time": "2017-09-04T23:50:18.222295Z"
    },
    "collapsed": true
   },
   "outputs": [],
   "source": [
    "# Make predictions\n",
    "clf_probs = clf.predict_proba(X_test)\n",
    "sig_score = log_loss(y_test, clf_probs)\n",
    "\n",
    "y_pred = clf.predict(X_test)"
   ]
  },
  {
   "cell_type": "markdown",
   "metadata": {},
   "source": [
    "# Metrics"
   ]
  },
  {
   "cell_type": "code",
   "execution_count": 14,
   "metadata": {
    "ExecuteTime": {
     "end_time": "2017-09-04T23:50:19.784989Z",
     "start_time": "2017-09-04T23:50:19.780987Z"
    }
   },
   "outputs": [
    {
     "name": "stdout",
     "output_type": "stream",
     "text": [
      "0.422426059562\n"
     ]
    }
   ],
   "source": [
    "# Log loss\n",
    "print(sig_score)"
   ]
  },
  {
   "cell_type": "code",
   "execution_count": 15,
   "metadata": {
    "ExecuteTime": {
     "end_time": "2017-09-04T23:50:20.644793Z",
     "start_time": "2017-09-04T23:50:20.637788Z"
    }
   },
   "outputs": [
    {
     "name": "stdout",
     "output_type": "stream",
     "text": [
      "             precision    recall  f1-score   support\n",
      "\n",
      "          0       0.96      0.96      0.96      2489\n",
      "          1       0.26      0.28      0.26       138\n",
      "\n",
      "avg / total       0.92      0.92      0.92      2627\n",
      "\n"
     ]
    }
   ],
   "source": [
    "print(classification_report(y_test, y_pred))"
   ]
  },
  {
   "cell_type": "code",
   "execution_count": 16,
   "metadata": {
    "ExecuteTime": {
     "end_time": "2017-09-04T23:50:21.736387Z",
     "start_time": "2017-09-04T23:50:21.461646Z"
    }
   },
   "outputs": [
    {
     "data": {
      "image/png": "[encoded data removed]",
      "text/plain": [
       "<matplotlib.figure.Figure at 0x1daec117e80>"
      ]
     },
     "metadata": {},
     "output_type": "display_data"
    }
   ],
   "source": [
    "# ROC and AUC\n",
    "fpr, tpr, _ = roc_curve(y_test, clf_probs[:,1])\n",
    "roc_auc = auc(fpr, tpr)\n",
    "\n",
    "fig, ax = plt.subplots(figsize=(10, 10))\n",
    "lw = 2\n",
    "ax.plot(fpr, tpr,\n",
    "         lw=lw, label=f'ROC curve (area = {roc_auc:.5f})')\n",
    "ax.plot([0, 1], [0, 1], lw=lw, linestyle='--')\n",
    "ax.set_xlim([0.0, 1.0])\n",
    "ax.set_ylim([0.0, 1.05])\n",
    "ax.set_xlabel('False Positive Rate')\n",
    "ax.set_ylabel('True Positive Rate')\n",
    "ax.set_title('Receiver operating characteristic')\n",
    "ax.legend(loc=\"lower right\", fontsize=15)\n",
    "plt.show()\n",
    "fig.tight_layout()\n",
    "fig.savefig(join('plots', 'RanFor', 'ROC.png'))"
   ]
  },
  {
   "cell_type": "code",
   "execution_count": 17,
   "metadata": {
    "ExecuteTime": {
     "end_time": "2017-09-04T23:50:23.873555Z",
     "start_time": "2017-09-04T23:50:23.014431Z"
    },
    "scrolled": false
   },
   "outputs": [
    {
     "data": {
      "image/png": "[encoded data removed]",
      "text/plain": [
       "<matplotlib.figure.Figure at 0x1daecb6b438>"
      ]
     },
     "metadata": {},
     "output_type": "display_data"
    }
   ],
   "source": [
    "# Plot relative importance of features to model\n",
    "fig, ax = plt.subplots(figsize=(15,10))\n",
    "pd.Series(clf.feature_importances_ , index=X.columns).plot(kind='bar', ax=ax)\n",
    "\n",
    "ax.set_ylabel('Relative importance')\n",
    "\n",
    "plt.show()\n",
    "fig.tight_layout()\n",
    "fig.savefig(join('plots', 'RanFor', 'importances.png'))"
   ]
  },
  {
   "cell_type": "code",
   "execution_count": null,
   "metadata": {
    "collapsed": true
   },
   "outputs": [],
   "source": []
  }
 ],
 "metadata": {
  "kernelspec": {
   "display_name": "Python 3",
   "language": "python",
   "name": "python3"
  },
  "language_info": {
   "codemirror_mode": {
    "name": "ipython",
    "version": 3
   },
   "file_extension": ".py",
   "mimetype": "text/x-python",
   "name": "python",
   "nbconvert_exporter": "python",
   "pygments_lexer": "ipython3",
   "version": "3.6.2"
  }
 },
 "nbformat": 4,
 "nbformat_minor": 2
}
